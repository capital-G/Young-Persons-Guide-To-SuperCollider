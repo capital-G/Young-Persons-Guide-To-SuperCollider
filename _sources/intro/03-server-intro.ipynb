{
 "cells": [
  {
   "cell_type": "markdown",
   "id": "efe7966b-5a24-4a01-bb07-cdf888e0eb62",
   "metadata": {},
   "source": [
    "# Quickstart to *scsynth*"
   ]
  },
  {
   "cell_type": "markdown",
   "id": "809d3b7b-179e-4d5a-b9f3-c30f6ea30e19",
   "metadata": {},
   "source": [
    "## Selecting an audio device\n",
    "\n",
    "To output sound in SuperCollider we need the **server** *scsynth* \n",
    "Before we start the server to generate some audio we need to check the input and output device of the server so we can actually hear something.\n",
    "We can see the detected audio devices via"
   ]
  },
  {
   "cell_type": "code",
   "execution_count": null,
   "id": "d361dca4-7804-4810-803f-51d118537f17",
   "metadata": {},
   "outputs": [
    {
     "name": "stdout",
     "output_type": "stream",
     "text": [
      "-> [ Studio 1824c, BlackHole 16ch, MacBook Pro Microphone, MacBook Pro Speakers, Soundflower (2ch), Soundflower (64ch), ZoomAudioD, Aggregate Device, MotuBlackhole, BlackHole Studio1824c, Fireface BlackHole, BlackHoleExtern, Zomm1824c, ExternalStudio1824c ]"
     ]
    }
   ],
   "source": [
    "ServerOptions.devices"
   ]
  },
  {
   "cell_type": "markdown",
   "id": "b51bdcd1-be01-4653-b23f-0906eabed8f7",
   "metadata": {},
   "source": [
    "For me, I want to use *MacBook Pro Speakers* as my output device, so we will tell the server, which is our audio engine *scsynth*, to use this as an output device."
   ]
  },
  {
   "cell_type": "code",
   "execution_count": null,
   "id": "08d0b4bf-048f-4b56-8e23-67553e4f2721",
   "metadata": {},
   "outputs": [
    {
     "name": "stdout",
     "output_type": "stream",
     "text": [
      "-> a ServerOptions"
     ]
    }
   ],
   "source": [
    "s.options.outDevice = \"MacBook Pro Speakers\";"
   ]
  },
  {
   "cell_type": "code",
   "execution_count": null,
   "id": "64186425-b1d5-4e46-ab31-aba79574ee77",
   "metadata": {},
   "outputs": [
    {
     "name": "stdout",
     "output_type": "stream",
     "text": [
      "-> localhost"
     ]
    }
   ],
   "source": [
    "s.boot;"
   ]
  },
  {
   "cell_type": "code",
   "execution_count": null,
   "id": "60541d36-dcfe-426a-84d9-5c1d24af305b",
   "metadata": {},
   "outputs": [
    {
     "name": "stdout",
     "output_type": "stream",
     "text": [
      "-> Synth('temp__0' : 1001)"
     ]
    }
   ],
   "source": [
    "{SinOsc.ar(400)}.play"
   ]
  },
  {
   "cell_type": "markdown",
   "id": "460467d6-40ab-4ba1-b6cf-1cb8ce9f4586",
   "metadata": {},
   "source": [
    "For more configuration options check out [ServerOptions](https://doc.sccode.org/Classes/ServerOptions.html) or use the extenios/Quark [ServerOptionsGui](https://github.com/gusano/ServerOptionsGui) which you can install and use via\n",
    "\n",
    "```supercollider\n",
    "Quarks.install(\"ServerOptionsGui\");\n",
    "thisProcess.recompile;\n",
    "ServerOptionsGui();\n",
    "s.reboot;\n",
    "```"
   ]
  },
  {
   "cell_type": "code",
   "execution_count": null,
   "id": "7499bd80-55fe-44e7-9441-719370c172ac",
   "metadata": {},
   "outputs": [
    {
     "name": "stdout",
     "output_type": "stream",
     "text": [
      "-> CmdPeriod"
     ]
    }
   ],
   "source": [
    "."
   ]
  }
 ],
 "metadata": {
  "kernelspec": {
   "display_name": "SuperCollider",
   "language": "",
   "name": "sc_kernel"
  },
  "language_info": {
   "file_extension": ".scd",
   "mimetype": "text/x-sclang",
   "name": "smalltalk",
   "pygments_lexer": "supercollider"
  }
 },
 "nbformat": 4,
 "nbformat_minor": 5
}
