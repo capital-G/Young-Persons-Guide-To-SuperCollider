{
 "cells": [
  {
   "cell_type": "markdown",
   "id": "efe7966b-5a24-4a01-bb07-cdf888e0eb62",
   "metadata": {},
   "source": [
    "# Quickstart to *scsynth*"
   ]
  },
  {
   "cell_type": "code",
   "execution_count": null,
   "id": "15c0850f-e9f5-4f82-899d-f150c276c1aa",
   "metadata": {},
   "outputs": [],
   "source": []
  }
 ],
 "metadata": {
  "kernelspec": {
   "display_name": "SuperCollider",
   "language": "",
   "name": "sc_kernel"
  },
  "language_info": {
   "file_extension": ".scd",
   "mimetype": "text/x-sclang",
   "name": "smalltalk",
   "pygments_lexer": "supercollider"
  }
 },
 "nbformat": 4,
 "nbformat_minor": 5
}
