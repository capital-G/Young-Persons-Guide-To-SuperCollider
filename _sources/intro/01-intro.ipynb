{
 "cells": [
  {
   "cell_type": "markdown",
   "id": "b7d24d73-1be7-40b2-8434-67e35c30e89b",
   "metadata": {},
   "source": [
    "# Introduction"
   ]
  },
  {
   "cell_type": "markdown",
   "id": "8c34eb11-baa7-4962-b812-fc6a659d9d3f",
   "metadata": {},
   "source": [
    "## What is SuperCollider\n",
    "\n",
    "SuperCollider is a free and open programming environment for sound development.\n",
    "It can run on Windows, Linux, macOS, iOS, Android, Raspberry Pi and much more.\n",
    "\n",
    "SuperCollider contains different sub-projects of which the most important are\n",
    "\n",
    "* scsynth - an audio engine which will output sound. *supernova* is an alternative implementation of the server which allows for multithreading.\n",
    "* sclang - a programming language which we will use to control the output of the server\n",
    "* scide - a Qt IDE which allows us to program sclang and control the server\n",
    "\n",
    "This splitting of components may seem strange at first but allow us to use SuperCollider in a variety of ways, like on a server in an internet."
   ]
  },
  {
   "cell_type": "markdown",
   "id": "31fa835a-6416-4aba-b1cf-a712f2b03c05",
   "metadata": {},
   "source": [
    "## Why SuperCollider?"
   ]
  },
  {
   "cell_type": "markdown",
   "id": "26711d35-7707-4198-aa0b-35cf88317298",
   "metadata": {},
   "source": [
    "## Starting SuperCollider\n",
    "\n",
    "After [installing SuperCollider](https://supercollider.github.io/downloads) you want to start *scide* which is often synonymous with *SuperCollider* on most operating systems.\n",
    "\n",
    "After starting the IDE you will see something like\n",
    "\n",
    "```\n",
    "*** Welcome to SuperCollider 3.11.2. *** For help press Cmd-D.\n",
    "```\n",
    "\n",
    "in the *Post window*, which indicates that *sclang* was started successfully and we can now start programming SuperCollider via sclang.\n",
    "\n",
    "The document you see allows us to enter sclang statements that we can run in the interpreter of sclang."
   ]
  }
 ],
 "metadata": {
  "kernelspec": {
   "display_name": "SuperCollider",
   "language": "",
   "name": "sc_kernel"
  },
  "language_info": {
   "file_extension": ".scd",
   "mimetype": "text/x-sclang",
   "name": "smalltalk",
   "pygments_lexer": "supercollider"
  }
 },
 "nbformat": 4,
 "nbformat_minor": 5
}
