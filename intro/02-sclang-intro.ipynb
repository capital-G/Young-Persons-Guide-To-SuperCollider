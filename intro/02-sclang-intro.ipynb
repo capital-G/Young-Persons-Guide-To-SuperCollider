{
 "cells": [
  {
   "cell_type": "markdown",
   "id": "350b1220-f3fd-418f-9c3a-e078616a28b4",
   "metadata": {},
   "source": [
    "# Quickstart to *sclang*\n",
    "\n",
    "*{term}`SuperCollider`* and *{term}`sclang`* are often used synomynous, but it helps for a better understanding to keep those terms separated.\n",
    "For this part we will get the first steps into *sclang*, the programming language of the SuperCollider environment.\n",
    "\n",
    "```{admonition} todo\n",
    "add how to open scide etc... maybe add a screenshot.\n",
    "```"
   ]
  },
  {
   "cell_type": "markdown",
   "id": "44f4e11a-baef-4997-b8b6-6c9fa704a3dd",
   "metadata": {},
   "source": [
    "## Exectuing statements\n",
    "\n",
    "The most simple statement in *sclang* is probably the calculation of a number.\n",
    "To run the calculation simply type in the statement seen below and hit `ctrl+enter` on Windows/Linux and `cmd+enter` on macOS while the cursor is in the same line of the statement to execute the line."
   ]
  },
  {
   "cell_type": "code",
   "execution_count": null,
   "id": "8ebaaccc-6ec5-4d00-9808-ff92e8500cf0",
   "metadata": {},
   "outputs": [
    {
     "name": "stdout",
     "output_type": "stream",
     "text": [
      "-> 4"
     ]
    }
   ],
   "source": [
    "2+2;"
   ]
  },
  {
   "cell_type": "markdown",
   "id": "e3beef62-0542-4b4a-a3bb-8c591eae695b",
   "metadata": {},
   "source": [
    "You will see the result `-> 4` in the post window. Congrats on running the first calculation within SuperCollider.\n",
    "\n",
    "So how does the infamous *Hello World* program look like in SuperCollider?"
   ]
  },
  {
   "cell_type": "code",
   "execution_count": null,
   "id": "c2c42a41-6437-4af5-aed4-4c9577f6cc56",
   "metadata": {},
   "outputs": [
    {
     "name": "stdout",
     "output_type": "stream",
     "text": [
      "Hello World\n",
      "-> Hello World"
     ]
    }
   ],
   "source": [
    "\"Hello World\".postln;"
   ]
  },
  {
   "cell_type": "markdown",
   "id": "2334d63f-6002-4265-9eeb-42de3d1cef21",
   "metadata": {},
   "source": [
    "We surround our string with `\"` and append a `.` to tell *sclang* to run the method `postln` on the string, which will print the string to our post window.\n",
    "We end the statement with a `;`.\n",
    "\n",
    "But why do we see the string `Hello World` two times?\n",
    "This is because the post window will also print the *return value* of the statement.\n",
    "In *sclang* every statement will return something - in our case the `postln` method returns the element it was called with, therefore we see `Hello World` two times: Once due to our `postln` statement and once because the interpreter also prints the return value of our statement."
   ]
  },
  {
   "cell_type": "markdown",
   "id": "18f77bdc-263c-4784-a317-85f1090c24e7",
   "metadata": {},
   "source": [
    "## Primitives\n",
    "\n",
    "Primitives are the building blocks of a programming language and form the most basic types of data storage.\n",
    "*sclang* is a programming language which is heavily inspired from programming languages such as .... - but if you are not familiar with those it is not a problem as we will take a look at how to come around."
   ]
  },
  {
   "cell_type": "markdown",
   "id": "0ddbd481-7ed8-42fb-9b42-7b70f381f0f3",
   "metadata": {},
   "source": [
    "### Integer\n",
    "\n",
    "We have already seen above the use of integers which represent the natural numbers."
   ]
  },
  {
   "cell_type": "code",
   "execution_count": null,
   "id": "b803503d-bdc2-4fc8-977e-a397d46f0e6b",
   "metadata": {},
   "outputs": [
    {
     "name": "stdout",
     "output_type": "stream",
     "text": [
      "-> 42"
     ]
    }
   ],
   "source": [
    "42;"
   ]
  },
  {
   "cell_type": "markdown",
   "id": "20c7b182-0819-49d6-afc6-f0bcd6bdb761",
   "metadata": {},
   "source": [
    "### Floats\n",
    "\n",
    "Flating point numbers represent the real numbers."
   ]
  },
  {
   "cell_type": "code",
   "execution_count": null,
   "id": "9b60f8b0-395d-48fd-9345-5d7fd78a415e",
   "metadata": {},
   "outputs": [
    {
     "name": "stdout",
     "output_type": "stream",
     "text": [
      "-> 4.343"
     ]
    }
   ],
   "source": [
    "4.343;"
   ]
  },
  {
   "cell_type": "markdown",
   "id": "0a86893d-9c13-4c3e-b900-ba1a368a56d2",
   "metadata": {},
   "source": [
    "### Strings\n",
    "\n",
    "We have already seen a string in our *Hello World* example."
   ]
  },
  {
   "cell_type": "code",
   "execution_count": null,
   "id": "49b2c730-c0c1-492e-9243-97e02225f2fe",
   "metadata": {},
   "outputs": [
    {
     "name": "stdout",
     "output_type": "stream",
     "text": [
      "-> a string"
     ]
    }
   ],
   "source": [
    "\"a string\";"
   ]
  },
  {
   "cell_type": "markdown",
   "id": "ee86d5f2-407e-406e-bfca-c9c98deff71a",
   "metadata": {},
   "source": [
    "### Booleans\n",
    "\n",
    "Every programming language needs to provide a way to represent the two boolean values.\n",
    "In *sclang* those are represented as `true` and `false`."
   ]
  },
  {
   "cell_type": "code",
   "execution_count": null,
   "id": "f92cb86e-48e6-4012-b76e-288a00feea28",
   "metadata": {},
   "outputs": [
    {
     "name": "stdout",
     "output_type": "stream",
     "text": [
      "-> false"
     ]
    }
   ],
   "source": [
    "2+2==5"
   ]
  },
  {
   "cell_type": "code",
   "execution_count": null,
   "id": "4c3204c1-6b02-4d91-b77f-d96adb2734b3",
   "metadata": {},
   "outputs": [
    {
     "name": "stdout",
     "output_type": "stream",
     "text": [
      "-> true"
     ]
    }
   ],
   "source": [
    "2+2==4"
   ]
  },
  {
   "cell_type": "markdown",
   "id": "546cc342-d9f3-4625-9a1e-30c61f82b86b",
   "metadata": {},
   "source": [
    "### Symbols\n",
    "\n",
    "Symbols are close to Strings but they are also really different.\n",
    "Instead of surrounding our string with `\"` we prepend a `\\` to it.\n",
    "Note that this writing restricts ourselves to not use a space in a symbol."
   ]
  },
  {
   "cell_type": "code",
   "execution_count": null,
   "id": "68f10c7d-b588-4fdd-9cb2-15208bb4a21f",
   "metadata": {},
   "outputs": [
    {
     "name": "stdout",
     "output_type": "stream",
     "text": [
      "-> symbol"
     ]
    }
   ],
   "source": [
    "\\symbol"
   ]
  },
  {
   "cell_type": "markdown",
   "id": "536d01aa-648c-4219-82e7-840d83747d6c",
   "metadata": {},
   "source": [
    "So for what do we need the Symbol if we have a string? This is already an advanced topic, but basically we can say\n",
    "\n",
    "* Use a string if you use a text\n",
    "* Use a symbol if you want to reference something by a string\n",
    "\n",
    "Basically it boils down to"
   ]
  },
  {
   "cell_type": "code",
   "execution_count": null,
   "id": "06af7dab-108d-4422-8b70-40faa21543f9",
   "metadata": {},
   "outputs": [
    {
     "name": "stdout",
     "output_type": "stream",
     "text": [
      "-> false"
     ]
    }
   ],
   "source": [
    "\"foo\" === \"foo\""
   ]
  },
  {
   "cell_type": "code",
   "execution_count": null,
   "id": "b1a91abf-5463-468c-92ef-8e586c681a8c",
   "metadata": {},
   "outputs": [
    {
     "name": "stdout",
     "output_type": "stream",
     "text": [
      "-> true"
     ]
    }
   ],
   "source": [
    "\\foo === \\foo"
   ]
  },
  {
   "cell_type": "markdown",
   "id": "9db8933d-bdbc-42e7-89e7-2be74a12e1d1",
   "metadata": {},
   "source": [
    "Where `===` compares the memory address of the variable (and `==` compares it values).\n",
    "Checking for memory address is important when working with dictionaries, which store under a key (e.g. a symbol) some value (e.g. an integer)."
   ]
  },
  {
   "cell_type": "markdown",
   "id": "ef33d4f3-c044-441b-9ed3-b3ddb123cb74",
   "metadata": {},
   "source": [
    "### nil\n",
    "\n",
    "`nil` is a special concept in programming language, often also associated with `None` or `null`.\n",
    "It represents empty data and is useful to see if something was set to e.g. an integer or if it was set not at all."
   ]
  },
  {
   "cell_type": "code",
   "execution_count": null,
   "id": "f378ae1a-bc53-4f88-9113-61e71a4020b2",
   "metadata": {},
   "outputs": [
    {
     "name": "stdout",
     "output_type": "stream",
     "text": [
      "-> nil"
     ]
    }
   ],
   "source": [
    "nil"
   ]
  },
  {
   "cell_type": "markdown",
   "id": "168274bb-31c5-4355-b719-5435196e2675",
   "metadata": {},
   "source": [
    "### Arrays\n",
    "\n",
    "Arrays or *lists* are a way to store multiple items and access them later via an *index* by accessing the $i$-th item of the array by surrounding it with `[` and `]` behind our array.\n",
    "This is similiar to a notion of a vector from mathematics or like pages in a book."
   ]
  },
  {
   "cell_type": "code",
   "execution_count": null,
   "id": "32cec867-64a0-471e-a227-7048409d9aa7",
   "metadata": {},
   "outputs": [
    {
     "name": "stdout",
     "output_type": "stream",
     "text": [
      "-> [ a, 2, 4.0, true ]"
     ]
    }
   ],
   "source": [
    "[\"a\", 2, 4.0, true]"
   ]
  },
  {
   "cell_type": "markdown",
   "id": "5bcc1a02-13ce-4d59-af85-95ea3aed540b",
   "metadata": {},
   "source": [
    "And accessing the $4$-th item from the array. Note that *sclang* is start counting at $0$, so we write $3$ instead of $4$.\n",
    "This is common in most programming languages and you will get used to it."
   ]
  },
  {
   "cell_type": "code",
   "execution_count": null,
   "id": "9394bc62-aff9-4e7b-97fd-44ece05abcea",
   "metadata": {},
   "outputs": [
    {
     "name": "stdout",
     "output_type": "stream",
     "text": [
      "-> foo"
     ]
    }
   ],
   "source": [
    "[\"b\", 4, 3.0, \\foo, false][3]"
   ]
  },
  {
   "cell_type": "markdown",
   "id": "47df8d17-e0ab-4c6d-9479-8b30179a3d97",
   "metadata": {},
   "source": [
    "But what happens if we access the 5-th item if our array only consists of 3 items?"
   ]
  },
  {
   "cell_type": "code",
   "execution_count": null,
   "id": "c041f80c-ca56-4ccd-8f29-5d5d2447c84a",
   "metadata": {},
   "outputs": [
    {
     "name": "stdout",
     "output_type": "stream",
     "text": [
      "-> nil"
     ]
    }
   ],
   "source": [
    "[0, 1, 2][4]"
   ]
  },
  {
   "cell_type": "markdown",
   "id": "e974a79e-81ca-4775-ba2c-9867f288ab50",
   "metadata": {},
   "source": [
    "It will return `nil`, telling us that we accessed empty data."
   ]
  },
  {
   "cell_type": "markdown",
   "id": "f09e0eb2-60ac-4f8d-ab85-b7195b55774f",
   "metadata": {},
   "source": [
    "### Dictionaries\n",
    "\n",
    "Dictionaries allow us to store a value under a key.\n",
    "We surround them with `(` and `)` and separate the key from the value with a `:` and separate multiple key/value pairs in our dictionary with an `,`.\n",
    "Here we will create a dictionary which maps the symbol `a` to the integer $42$ and the symbol `b` to integer $43$."
   ]
  },
  {
   "cell_type": "code",
   "execution_count": null,
   "id": "62145672-b4f9-4f61-9eb7-67ab268b63a5",
   "metadata": {},
   "outputs": [
    {
     "name": "stdout",
     "output_type": "stream",
     "text": [
      "-> ( 'a': 42, 'b': 43 )"
     ]
    }
   ],
   "source": [
    "(\\a: 42, \\b: 43)"
   ]
  },
  {
   "cell_type": "markdown",
   "id": "ae30a11f-f6e7-48c9-a8de-0b7374a14d04",
   "metadata": {},
   "source": [
    "We can access the value of a dictionary similiar to an array, but instead of the position we use the key."
   ]
  },
  {
   "cell_type": "code",
   "execution_count": null,
   "id": "1cdbc69f-700a-4c67-baf6-f7dde7d02fd5",
   "metadata": {},
   "outputs": [
    {
     "name": "stdout",
     "output_type": "stream",
     "text": [
      "-> 42"
     ]
    }
   ],
   "source": [
    "(\\a: 42, \\b: 43)[\\a]"
   ]
  },
  {
   "cell_type": "markdown",
   "id": "1b4653a2-ee2b-4ba1-9e60-15fa61fbf485",
   "metadata": {},
   "source": [
    "Accessing a non existing key will return us `nil`."
   ]
  },
  {
   "cell_type": "code",
   "execution_count": null,
   "id": "9ff6c8b8-8ba4-42a5-9e52-c39e55bfccd1",
   "metadata": {},
   "outputs": [
    {
     "name": "stdout",
     "output_type": "stream",
     "text": [
      "-> nil"
     ]
    }
   ],
   "source": [
    "(\\a: 42, \\b: 43)[\\c]"
   ]
  },
  {
   "cell_type": "markdown",
   "id": "d6e8b1d4-1af4-4eae-86bd-99b35d13a8b5",
   "metadata": {},
   "source": [
    "As noted earlier it is important to use symbols instead of strings for our dictionary keys, which is demonstrated by this small example."
   ]
  },
  {
   "cell_type": "code",
   "execution_count": null,
   "id": "5f72d0e9-7b72-4bf6-93f6-db27df124349",
   "metadata": {},
   "outputs": [
    {
     "name": "stdout",
     "output_type": "stream",
     "text": [
      "-> nil"
     ]
    }
   ],
   "source": [
    "(\"a\": 42, \"b\": 43)[\"a\"]"
   ]
  },
  {
   "cell_type": "markdown",
   "id": "c8fe6b86-e079-47f0-9973-1c3dc6eeab93",
   "metadata": {},
   "source": [
    "## Multiline statements\n",
    "\n",
    "Before we start exploring *sclang* further we want to mention on how to execute mulitple lines or statements at once which will become necessary at some point.\n",
    "\n",
    "To run multiple statements at once we need to surround the statement with `(` and `)`, so\n",
    "\n",
    "```supercollider\n",
    "(\n",
    "\"hello\".postln;\n",
    "\"world\".postln;\n",
    ")\n",
    "```\n",
    "\n",
    "Move the cursor into the brackets and hit `ctrl+enter` on Linux/Windows or `cmd+enter` on macOS.\n",
    "\n",
    "```{important}\n",
    "In this documentation we will omit these brackets on multiline statements.\n",
    "Each cell should be regarded as a multi-line block, surrounded by `(` and `)`.\n",
    "```"
   ]
  },
  {
   "cell_type": "markdown",
   "id": "27232012-0da7-4ae8-b59f-41dcd8164fb1",
   "metadata": {},
   "source": [
    "## Variables\n",
    "\n",
    "Variables allow us to store data under a name."
   ]
  },
  {
   "cell_type": "code",
   "execution_count": null,
   "id": "8697c6ec-2ad9-4679-9c8d-f0ecfc198431",
   "metadata": {},
   "outputs": [
    {
     "name": "stdout",
     "output_type": "stream",
     "text": [
      "-> 42"
     ]
    }
   ],
   "source": [
    "a = 42;"
   ]
  },
  {
   "cell_type": "code",
   "execution_count": null,
   "id": "cdcd326d-37a0-498c-aced-a01f3cd424d7",
   "metadata": {},
   "outputs": [
    {
     "name": "stdout",
     "output_type": "stream",
     "text": [
      "-> 46"
     ]
    }
   ],
   "source": [
    "a + 4;"
   ]
  },
  {
   "cell_type": "code",
   "execution_count": null,
   "id": "2275d4e8-4f4e-4261-8ae5-777190602ab7",
   "metadata": {},
   "outputs": [
    {
     "name": "stdout",
     "output_type": "stream",
     "text": [
      "-> 3"
     ]
    }
   ],
   "source": [
    "b = [0, 1, 3, 5, 10];\n",
    "b[2];"
   ]
  },
  {
   "cell_type": "markdown",
   "id": "39c7c355-09e7-4bd9-86ee-34ca6c53b114",
   "metadata": {},
   "source": [
    "But *sclang* has a restriction that may seem strange: global variables can only have one character!\n",
    "Setting a variable with more than one character"
   ]
  },
  {
   "cell_type": "code",
   "execution_count": null,
   "id": "ec0a7520-fcd6-41b1-87d4-390272760c2d",
   "metadata": {},
   "outputs": [
    {
     "name": "stdout",
     "output_type": "stream",
     "text": [
      "\".postln; result = {abc = 42;}.value(); postf(\"-> %\n",
      "                                                               \n",
      "  \", result); \""
     ]
    }
   ],
   "source": [
    "abc = 42;"
   ]
  },
  {
   "cell_type": "markdown",
   "id": "c87826dd-971a-43aa-bccc-e82a881423de",
   "metadata": {},
   "source": [
    "results in\n",
    "\n",
    "```text\n",
    "ERROR: Variable 'abc' not defined.\n",
    "```\n",
    "\n",
    "There are some styles to circumvent this from which we will show two."
   ]
  },
  {
   "cell_type": "markdown",
   "id": "566cf6a3-6a2c-46ed-a921-fbbb918b0fc7",
   "metadata": {},
   "source": [
    "### Using a global dictionary\n",
    "\n",
    "The idea is to create a dictionary under a variable name (often `q`) which will allow us to create a mapping of symbol keys to abitrary values, even nested dictionaries.\n",
    "Sounds more complex than it actually is but it is really powerful tool."
   ]
  },
  {
   "cell_type": "code",
   "execution_count": null,
   "id": "9466a695-b6ea-485d-a392-50773033cf3b",
   "metadata": {},
   "outputs": [
    {
     "name": "stdout",
     "output_type": "stream",
     "text": [
      "-> (  )"
     ]
    }
   ],
   "source": [
    "// init the dictionary\n",
    "q = ();\n",
    "q;"
   ]
  },
  {
   "cell_type": "code",
   "execution_count": null,
   "id": "b93bb0e7-d575-4a33-9948-c7c047a960b0",
   "metadata": {},
   "outputs": [
    {
     "name": "stdout",
     "output_type": "stream",
     "text": [
      "-> ( 'abc': 42 )"
     ]
    }
   ],
   "source": [
    "// add an key/value pair\n",
    "q[\\abc] = 42;"
   ]
  },
  {
   "cell_type": "code",
   "execution_count": null,
   "id": "8c977adc-eae3-40d6-8184-20ce39da8a37",
   "metadata": {},
   "outputs": [
    {
     "name": "stdout",
     "output_type": "stream",
     "text": [
      "-> 44"
     ]
    }
   ],
   "source": [
    "q[\\abc] + 2;"
   ]
  },
  {
   "cell_type": "code",
   "execution_count": null,
   "id": "3f5f3bb5-aa3f-43a3-a589-8f000bb2ed85",
   "metadata": {},
   "outputs": [
    {
     "name": "stdout",
     "output_type": "stream",
     "text": [
      "-> ( 'foo': ( 'bar': 42, 'baz': 44 ), 'abc': 42 )"
     ]
    }
   ],
   "source": [
    "// create a nested dictionary\n",
    "q[\\foo] = (\\bar: 42, \\baz: 44);"
   ]
  },
  {
   "cell_type": "code",
   "execution_count": null,
   "id": "e30b16fe-ccc4-46af-928e-49b361c86866",
   "metadata": {},
   "outputs": [
    {
     "name": "stdout",
     "output_type": "stream",
     "text": [
      "-> 42"
     ]
    }
   ],
   "source": [
    "// access it\n",
    "q[\\foo][\\bar];"
   ]
  },
  {
   "cell_type": "markdown",
   "id": "6fd6a5d0-4173-4210-841d-94595807b3c4",
   "metadata": {},
   "source": [
    "### Using environment\n",
    "\n",
    "The usage of an [Environment](https://doc.sccode.org/Classes/Environment.html) is already pretty advanced within SuperCollider but for now we can simply use it.\n",
    "\n",
    "It simply allows us to create variables with multiple chars by prepending a `~` to it."
   ]
  },
  {
   "cell_type": "code",
   "execution_count": null,
   "id": "4cc76bd0-cb77-4c2a-b762-b3381c727bf1",
   "metadata": {},
   "outputs": [
    {
     "name": "stdout",
     "output_type": "stream",
     "text": [
      "-> 42"
     ]
    }
   ],
   "source": [
    "~abc = 42;"
   ]
  },
  {
   "cell_type": "code",
   "execution_count": null,
   "id": "00bf34a9-8e1b-4fce-8e79-b9846fed89e2",
   "metadata": {},
   "outputs": [
    {
     "name": "stdout",
     "output_type": "stream",
     "text": [
      "-> 46"
     ]
    }
   ],
   "source": [
    "~abc + 4;"
   ]
  },
  {
   "cell_type": "markdown",
   "id": "cc67c492-a868-449a-b177-dc02d6f77bcf",
   "metadata": {},
   "source": [
    "Try out both ways to see what suits you best, but be aware: there is a certain style of programming *sclang* for which the `~` writing will lead to troubles, but we will care about this at a later stage and should not confuse you for now.\n",
    "\n",
    "\n",
    "```{hint}\n",
    "By the way, [Environment](https://doc.sccode.org/Classes/Environment.html) uses internally a dictionary as well.\n",
    "The single character global variables are actually members of the [Interpreter](https://doc.sccode.org/Classes/Interpreter.html) class, see [here](https://github.com/supercollider/supercollider/blob/b38fbc1bac91c698ddaf8c880f987b282a2112c9/SCClassLibrary/Common/Core/Kernel.sc#L594-L599).\n",
    "```"
   ]
  },
  {
   "cell_type": "markdown",
   "id": "7d1049b2-411d-477b-88fd-7c0497199cf9",
   "metadata": {
    "tags": []
   },
   "source": [
    "### Determine the type of a variable\n",
    "\n",
    "To figure out the type of a variable we can execute the method `.class` on our variable."
   ]
  },
  {
   "cell_type": "code",
   "execution_count": null,
   "id": "3711d9e9-f558-440c-abb5-e93868ffdeea",
   "metadata": {},
   "outputs": [
    {
     "name": "stdout",
     "output_type": "stream",
     "text": [
      "-> Integer"
     ]
    }
   ],
   "source": [
    "a = 42;\n",
    "a.class;"
   ]
  },
  {
   "cell_type": "markdown",
   "id": "5416bfc3-128d-48a4-8f91-9f7ee4254559",
   "metadata": {},
   "source": [
    "## Comments\n",
    "\n",
    "*sclang* allows to ways to create comments"
   ]
  },
  {
   "cell_type": "markdown",
   "id": "e6fba9c1-94f9-4196-a97d-dcb63a5cf2bb",
   "metadata": {},
   "source": [
    "### Single line comments\n",
    "\n",
    "Created by prepending `//` to a line"
   ]
  },
  {
   "cell_type": "code",
   "execution_count": null,
   "id": "3c716176-f263-4d5b-9c10-6521345a98e1",
   "metadata": {},
   "outputs": [
    {
     "name": "stdout",
     "output_type": "stream",
     "text": [
      "this is not a comment\n",
      "-> this is not a comment"
     ]
    }
   ],
   "source": [
    "// \"this is a comment\".postln;\n",
    "\"this is not a comment\".postln;"
   ]
  },
  {
   "cell_type": "markdown",
   "id": "eaf241fb-0591-4285-b9d1-6f151318b0d9",
   "metadata": {},
   "source": [
    "### Multi line comments\n",
    "\n",
    "Created by surounding a block with `\\*` and `*\\`."
   ]
  },
  {
   "cell_type": "code",
   "execution_count": null,
   "id": "483df2ae-0181-4e1d-901c-6691d9757369",
   "metadata": {},
   "outputs": [
    {
     "name": "stdout",
     "output_type": "stream",
     "text": [
      "-> 46"
     ]
    }
   ],
   "source": [
    "/* some comment\n",
    "that goes across\n",
    "multpile lines\n",
    "*/\n",
    "42+4;"
   ]
  },
  {
   "cell_type": "markdown",
   "id": "29b239c4-4f1c-499d-b83d-c7b3e13b09e7",
   "metadata": {},
   "source": [
    "## Functions\n",
    "\n",
    "Functions are a crucial building block of *sclang* and are first class citizens, meaning that variables can not just hold data but also functions.\n",
    "This also means that all our functions are anonymous, so without a name. We can simply refer to them via a variable.\n",
    "\n",
    "The content of a function is surrounded by `{` and `}`."
   ]
  },
  {
   "cell_type": "code",
   "execution_count": null,
   "id": "4ed47cf2-e580-4e36-a9fb-b7e00ac2acdb",
   "metadata": {},
   "outputs": [
    {
     "name": "stdout",
     "output_type": "stream",
     "text": [
      "-> a Function"
     ]
    }
   ],
   "source": [
    "f = {\"hello world\".postln;}"
   ]
  },
  {
   "cell_type": "markdown",
   "id": "b49d8185-afc5-462a-8bee-384d003ba2e2",
   "metadata": {},
   "source": [
    "To execute the function we have multiple ways in *sclang*.\n",
    "We can either use the `.value` method of the function"
   ]
  },
  {
   "cell_type": "code",
   "execution_count": null,
   "id": "312b12a9-639c-44ac-8783-01d6e026b3b7",
   "metadata": {},
   "outputs": [
    {
     "name": "stdout",
     "output_type": "stream",
     "text": [
      "hello world\n",
      "-> hello world"
     ]
    }
   ],
   "source": [
    "f.value();"
   ]
  },
  {
   "cell_type": "markdown",
   "id": "193c158f-0367-49af-9ce7-9deb1b7c29d0",
   "metadata": {},
   "source": [
    "or simply use `.()` on the function."
   ]
  },
  {
   "cell_type": "code",
   "execution_count": null,
   "id": "fa70be7c-d803-498d-b61a-8a91bf4f6e39",
   "metadata": {},
   "outputs": [
    {
     "name": "stdout",
     "output_type": "stream",
     "text": [
      "hello world\n",
      "-> hello world"
     ]
    }
   ],
   "source": [
    "f.();"
   ]
  },
  {
   "cell_type": "markdown",
   "id": "373960fb-9b18-4f18-83ac-af3d8f29c86b",
   "metadata": {},
   "source": [
    "As our variable `f` is a placeholder for a function we can also run it without referencing to a variable."
   ]
  },
  {
   "cell_type": "code",
   "execution_count": null,
   "id": "512a3044-8269-4ddf-a5f8-e0c5b45d69be",
   "metadata": {},
   "outputs": [
    {
     "name": "stdout",
     "output_type": "stream",
     "text": [
      "now run\n",
      "-> now run"
     ]
    }
   ],
   "source": [
    "{\"now run\".postln}.();"
   ]
  },
  {
   "cell_type": "markdown",
   "id": "c1f9fb83-e545-4a1d-b952-052e3d867150",
   "metadata": {},
   "source": [
    "As mentioned before every statement in *sclang* also returns a value - this is also true for our function which will simply return the last statement of the function as a return statement."
   ]
  },
  {
   "cell_type": "code",
   "execution_count": null,
   "id": "000599aa-7acf-44fd-af04-82a7c7c4b2f7",
   "metadata": {},
   "outputs": [
    {
     "name": "stdout",
     "output_type": "stream",
     "text": [
      "-> a Function"
     ]
    }
   ],
   "source": [
    "f = {\n",
    "    \"this is string A\";\n",
    "    \"and this is another string\";\n",
    "};"
   ]
  },
  {
   "cell_type": "code",
   "execution_count": null,
   "id": "3461abac-f688-4f82-ac51-0ceafe356b56",
   "metadata": {},
   "outputs": [
    {
     "name": "stdout",
     "output_type": "stream",
     "text": [
      "and this is another string\n",
      "-> and this is another string"
     ]
    }
   ],
   "source": [
    "a = f.();\n",
    "a.postln;"
   ]
  },
  {
   "cell_type": "markdown",
   "id": "9a5910cb-e27e-480c-8408-5742e822b53a",
   "metadata": {},
   "source": [
    "### Arguments\n",
    "\n",
    "Functions are really powerful because they also can react to dynamic input which allows us to abstract and encapsule certain sequences.\n",
    "There are two ways in *sclang* to add arguments to our function.\n",
    "\n",
    "We both times want to write a function which simply takes two arguments and returns the sum of both.\n",
    "Remember that the last statement within a function will also be returned in *sclang*."
   ]
  },
  {
   "cell_type": "markdown",
   "id": "563c2181-9dcd-4666-86e7-4a96358f5341",
   "metadata": {},
   "source": [
    "#### `| |` style"
   ]
  },
  {
   "cell_type": "code",
   "execution_count": null,
   "id": "5a0d0b5e-2f27-4f4c-a08f-fcae9c95ceef",
   "metadata": {},
   "outputs": [
    {
     "name": "stdout",
     "output_type": "stream",
     "text": [
      "-> a Function"
     ]
    }
   ],
   "source": [
    "f = {|a, b|\n",
    "    a+b;\n",
    "};"
   ]
  },
  {
   "cell_type": "code",
   "execution_count": null,
   "id": "8024d0d8-93bd-447a-ab20-b3caff16f01e",
   "metadata": {},
   "outputs": [
    {
     "name": "stdout",
     "output_type": "stream",
     "text": [
      "-> 6"
     ]
    }
   ],
   "source": [
    "f.(2, 4);"
   ]
  },
  {
   "cell_type": "markdown",
   "id": "e29c0eed-9ad0-4836-9501-895ddbbefb0c",
   "metadata": {},
   "source": [
    "#### `arg` style"
   ]
  },
  {
   "cell_type": "code",
   "execution_count": null,
   "id": "b7dff7c0-4a61-4318-8a47-906004489ae0",
   "metadata": {},
   "outputs": [
    {
     "name": "stdout",
     "output_type": "stream",
     "text": [
      "-> a Function"
     ]
    }
   ],
   "source": [
    "f = {arg a, b;\n",
    "    a+b;\n",
    "};"
   ]
  },
  {
   "cell_type": "code",
   "execution_count": null,
   "id": "8cf04d86-4ccd-4b7e-8a94-e50282c6e6e8",
   "metadata": {},
   "outputs": [
    {
     "name": "stdout",
     "output_type": "stream",
     "text": [
      "-> 9"
     ]
    }
   ],
   "source": [
    "f.(3, 6);"
   ]
  },
  {
   "cell_type": "markdown",
   "id": "46e79fec-4ff7-44c6-86c9-9ab239f0b220",
   "metadata": {},
   "source": [
    "It comes down to a matter of preference which you want to use but it is good to know both ways as you will come across both writings when reading documentation or other tutorials.\n",
    "\n",
    "```{hint}\n",
    "*sclang* also implements some functional programming paradigms, see [Functions](https://doc.sccode.org/Reference/Functions.html) and [partial application](https://doc.sccode.org/Reference/Partial-Application.html).\n",
    "```\n"
   ]
  },
  {
   "cell_type": "markdown",
   "id": "ea9cb5b5-636f-4af7-90f7-ba75687d7368",
   "metadata": {},
   "source": [
    "### Method chaining"
   ]
  },
  {
   "cell_type": "markdown",
   "id": "d32e2bcc-ac99-4ffe-b7a3-66bbbee32b49",
   "metadata": {},
   "source": [
    "### Callbacks\n",
    "\n",
    "If you have programmed JavaScript before you probably already are familiar with the concept of callbacks but if not you will learn it now.\n",
    "Basically a callback is a function which gets called when something happened - e.g. if something that took a long time has a result or if a value of something changed.\n",
    "\n",
    "Assume we have a slider on a MIDI Controller and want to attach its value to a variable.\n",
    "A naive approach would be to simply write (note that this is pseudo-code and not actual sclang code)\n",
    "\n",
    "```supercollider\n",
    "a = MidiSlider.value;\n",
    "```\n",
    "\n",
    "but this would only associate the value of the MidiSlider only when we exectue the line, but would not update it afterwards.\n",
    "Here a callback comes in handy as we simply provide a function which will update the value of a with the value from the slider.\n",
    "But how do we get the current value of the slider? Well, a callback can also receive an argument, and the callback function is often called in such a way that the first argument is e.g. the new value.\n",
    "Wrapping everything together the pseudo-code from above would look something like\n",
    "\n",
    "```supercollider\n",
    "MidiSlider.onChange = {|newValue| a = newValue };\n",
    "```\n",
    "\n",
    "It is a bit reverse thinking but you will get used to it after some practice."
   ]
  },
  {
   "cell_type": "markdown",
   "id": "3b069288-a21a-4c37-8ad7-52e9019de2bf",
   "metadata": {},
   "source": [
    "## Namespace\n",
    "\n",
    "Namespaces (or *closures*) are allow us to create a new context in which we can define variables.\n",
    "As these are not global variables but local variables (we will see in a minute what the difference is) we can also use variable names with more than one character.\n",
    "\n",
    "A namespace is everything that is encapsulated in a multi line statement, so within `(` and `)`."
   ]
  },
  {
   "cell_type": "code",
   "execution_count": null,
   "id": "c36fa93d-b042-4d45-9727-161ca981cefb",
   "metadata": {},
   "outputs": [
    {
     "name": "stdout",
     "output_type": "stream",
     "text": [
      "-> 46"
     ]
    }
   ],
   "source": [
    "var foo = 42;\n",
    "foo + 4;"
   ]
  },
  {
   "cell_type": "markdown",
   "id": "d98bd5b8-2c10-4758-bc5c-26b160791944",
   "metadata": {},
   "source": [
    "Note that this means they are only available within the namespace and not in an outside (or new) namespace."
   ]
  },
  {
   "cell_type": "code",
   "execution_count": null,
   "id": "9cf8145d-68ad-4477-9ad9-08642e45314a",
   "metadata": {},
   "outputs": [
    {
     "name": "stdout",
     "output_type": "stream",
     "text": [
      "\".postln; result = {foo;}.value(); postf(\"-> %\n",
      "                                                         \n",
      "  \", result); \""
     ]
    }
   ],
   "source": [
    "foo;"
   ]
  },
  {
   "cell_type": "markdown",
   "id": "305a505d-c2ce-40b5-9d1a-ff8358eaa7f9",
   "metadata": {},
   "source": [
    "In this context we can not access `foo` anymore because it resides in a different namespace.\n",
    "\n",
    "We need to define the variables of the namespace at the beginneg of the namespace and prepend `var` to it."
   ]
  },
  {
   "cell_type": "code",
   "execution_count": null,
   "id": "3552b851-5501-4c72-bbe0-c61a5765c3b4",
   "metadata": {},
   "outputs": [],
   "source": [
    "\"hello\".postln;\n",
    "var world = \"world\";"
   ]
  },
  {
   "cell_type": "markdown",
   "id": "c03c6d5e-81d8-4054-931f-543b55baa7c3",
   "metadata": {},
   "source": [
    "Does not work because we declare a variable after a statement.\n",
    "A way to fix this would be"
   ]
  },
  {
   "cell_type": "code",
   "execution_count": null,
   "id": "ea3a7f02-1421-401b-94ec-d28379128360",
   "metadata": {},
   "outputs": [
    {
     "name": "stdout",
     "output_type": "stream",
     "text": [
      "hello\n",
      "world\n",
      "-> world"
     ]
    }
   ],
   "source": [
    "var world;\n",
    "\"hello\".postln;\n",
    "world = \"world\";\n",
    "world.postln;"
   ]
  },
  {
   "cell_type": "markdown",
   "id": "b1f07431-373a-4354-884f-547af40cc8cd",
   "metadata": {},
   "source": [
    "Note that each function also creates a new namespace, but we need to declare our variables always at the top of a namespace!"
   ]
  },
  {
   "cell_type": "code",
   "execution_count": null,
   "id": "2fecaaa8-1f61-4365-a463-21dd4ec803e4",
   "metadata": {},
   "outputs": [
    {
     "name": "stdout",
     "output_type": "stream",
     "text": [
      "-> a Function"
     ]
    }
   ],
   "source": [
    "f = {|a, b|\n",
    "    var result = a + b;\n",
    "    result;\n",
    "};"
   ]
  },
  {
   "cell_type": "code",
   "execution_count": null,
   "id": "cb24b51e-9816-4680-9799-aa0dbf0912f2",
   "metadata": {},
   "outputs": [
    {
     "name": "stdout",
     "output_type": "stream",
     "text": [
      "-> 84"
     ]
    }
   ],
   "source": [
    "f.(42, 42);"
   ]
  },
  {
   "cell_type": "markdown",
   "id": "b1bf30a3-ef0c-4438-886d-473f226ca666",
   "metadata": {},
   "source": [
    "## Classes\n",
    "\n",
    "Classes are used in a programming paradigm called object oriented programming (OOP) which relies on the concept of a Class (which behaves like a blueprint) and instances of this class, called objects.\n",
    "The class describes what data and functions a class can have and the object actually fills the data of the class.\n",
    "We can create e.g. a class called `Car` on which we want to store the variables\n",
    "\n",
    "* name\n",
    "* color\n",
    "* location\n",
    "\n",
    "To actually do something with the class we need to create an *object* out of it, like\n",
    "\n",
    "```supercollider\n",
    "carA = Car(name: \\danube, color: \\blue, location: \\rome)\n",
    "```\n",
    "\n",
    "and another car with\n",
    "\n",
    "```supercollider\n",
    "carB = Car(name: \\rhine, color: \\blue, location: \\graz)\n",
    "```\n",
    "\n",
    "We can now use these two cars to compare the colors, e.g. `carA.color == carB.color` which would return `true`, but we can also attach function to these cars, allowing for a repainting, a change of location or the calculation of a distance to another city based on its current location.\n",
    "\n",
    "Although *sclang* is a purely object oriented programming language we can only add Classes during compile time, so for the beginnig you probably will not write so much classes, yet it is important to understand them as you will interact with them all the time as\n",
    "\n",
    ">everything is an object\n",
    "\n",
    "in *sclang*.\n",
    "Everytime you will see a word beginnig with capital letters (like `Car`) it indicates a class, where `carA` is an object.\n",
    "\n",
    "Functions which are in the namespace of a class and can therefore also access the data within the class are called *methods*.\n",
    "E.g. `.postln` from `\"Hello world\".postln` is actually a method on the String class which will run the `postln` function of `\"Hello world\"`.\n",
    "\n",
    "In the beginnig this concept can be quite tricky, but as always, with some practice you will get used to it and once you have a project where you want or need to write your own classes you will probably understand it, but for now it is more important to understand them and know the vocabulary."
   ]
  },
  {
   "cell_type": "markdown",
   "id": "f299acff-8dc1-4680-881a-d7c2673e8b97",
   "metadata": {},
   "source": [
    "## Control structures"
   ]
  },
  {
   "cell_type": "markdown",
   "id": "74cbe5c8-54fa-435a-afb9-98d0aa39ee39",
   "metadata": {},
   "source": [
    "### if\n",
    "\n",
    "An *if* function allows to separate branches based upon a given condition.\n",
    "*sclang* allows two ways to write them.\n",
    "\n",
    "The first way is to create a boolean of our statement and apply the `if` method on it where the first argument is the function (callback) which will get called if the condition is true and the second function will get called if the condition is false."
   ]
  },
  {
   "cell_type": "code",
   "execution_count": null,
   "id": "552039dc-ce12-4076-a311-236fd7a066f7",
   "metadata": {},
   "outputs": [
    {
     "name": "stdout",
     "output_type": "stream",
     "text": [
      "8\n",
      "-> a is bigger than 5"
     ]
    }
   ],
   "source": [
    "// create a random variable between 0 and 9\n",
    "a = 10.rand.postln;\n",
    "\n",
    "(a>5).if({\"a is bigger than 5\"}, {\"a is smaller than 5\"});"
   ]
  },
  {
   "cell_type": "markdown",
   "id": "88a81ca3-af48-470e-b75a-85f1aa4435de",
   "metadata": {},
   "source": [
    "Alternatively we can also use the `if` function where the first argument is our condition which we want to evaluate, the second argument is the function which will get called if the condition is true and the third argument is the function which will get called if the condition is false."
   ]
  },
  {
   "cell_type": "code",
   "execution_count": null,
   "id": "c8770192-bcdb-43a6-a87c-13b5c285a2d5",
   "metadata": {},
   "outputs": [
    {
     "name": "stdout",
     "output_type": "stream",
     "text": [
      "4\n",
      "-> a is smaller than 5"
     ]
    }
   ],
   "source": [
    "a = 10.rand.postln;\n",
    "if(a>5, {\"a is bigger than 5\"}, {\"a is smaller than 5\"});"
   ]
  },
  {
   "cell_type": "markdown",
   "id": "4c9800b5-bf71-4650-bac1-0e5b28f6b38f",
   "metadata": {},
   "source": [
    "### for\n",
    "\n",
    "We already introduced lists before and lists are always are associated with a `for` loop which allows us to perform a block of operations (so, a function) for each element of the list."
   ]
  },
  {
   "cell_type": "code",
   "execution_count": null,
   "id": "097557c6-b61b-4034-989c-2fcd4409093f",
   "metadata": {},
   "outputs": [
    {
     "name": "stdout",
     "output_type": "stream",
     "text": [
      "hello\n",
      "world\n",
      "!\n",
      "-> [ hello, world, ! ]"
     ]
    }
   ],
   "source": [
    "[\"hello\", \"world\", \"!\"].do({|item|\n",
    "    item.postln;\n",
    "});"
   ]
  },
  {
   "cell_type": "markdown",
   "id": "bd49d3b6-747f-4134-b857-55c49f3638f8",
   "metadata": {},
   "source": [
    "## Documentation\n",
    "\n",
    "At the beginnig of learning a language it necessary to navigate for help.\n",
    "Here we want to discuss some basic methods that *sclang* and *scide* provide you in case you are in need for help."
   ]
  },
  {
   "cell_type": "markdown",
   "id": "9671df66-c116-4616-8d48-f4264c071869",
   "metadata": {},
   "source": [
    "## Exceptions"
   ]
  },
  {
   "cell_type": "markdown",
   "id": "85845e78-5d43-485e-9a1a-6c8caa30f679",
   "metadata": {},
   "source": [
    "## Exercises"
   ]
  },
  {
   "cell_type": "code",
   "execution_count": null,
   "id": "2de85418-6b99-4a39-a2a5-119b8a4d72a7",
   "metadata": {},
   "outputs": [],
   "source": []
  }
 ],
 "metadata": {
  "kernelspec": {
   "display_name": "SuperCollider",
   "language": "",
   "name": "sc_kernel"
  },
  "language_info": {
   "file_extension": ".scd",
   "mimetype": "text/x-sclang",
   "name": "smalltalk",
   "pygments_lexer": "supercollider"
  }
 },
 "nbformat": 4,
 "nbformat_minor": 5
}
