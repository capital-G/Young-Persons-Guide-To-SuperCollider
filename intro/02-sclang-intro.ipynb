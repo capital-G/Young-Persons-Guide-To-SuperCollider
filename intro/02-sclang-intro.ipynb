{
 "cells": [
  {
   "cell_type": "markdown",
   "id": "350b1220-f3fd-418f-9c3a-e078616a28b4",
   "metadata": {},
   "source": [
    "# Quickstart to *sclang*\n",
    "\n",
    "*SuperCollider* and *sclang* are often used synomynous, but it helps for a better understanding to keep those terms separated."
   ]
  },
  {
   "cell_type": "markdown",
   "id": "44f4e11a-baef-4997-b8b6-6c9fa704a3dd",
   "metadata": {},
   "source": [
    "## Exectuing statements\n",
    "\n",
    "The most simple statement in *sclang* is probably the calculation of a number.\n",
    "To run the calculation simply type in the statement seen below and hit `ctrl+enter` on Windows/Linux and `cmd+enter` on macOS while the cursor is in the same line of the statement to execute the line."
   ]
  },
  {
   "cell_type": "code",
   "execution_count": null,
   "id": "8ebaaccc-6ec5-4d00-9808-ff92e8500cf0",
   "metadata": {},
   "outputs": [
    {
     "name": "stdout",
     "output_type": "stream",
     "text": [
      "-> 4"
     ]
    }
   ],
   "source": [
    "2+2;"
   ]
  },
  {
   "cell_type": "markdown",
   "id": "e3beef62-0542-4b4a-a3bb-8c591eae695b",
   "metadata": {},
   "source": [
    "You will see the result `-> 4` in the post window. Congrats on running the first calculation within SuperCollider.\n",
    "\n",
    "So how does the infamous *Hello World* program look like in SuperCollider?"
   ]
  },
  {
   "cell_type": "code",
   "execution_count": null,
   "id": "c2c42a41-6437-4af5-aed4-4c9577f6cc56",
   "metadata": {},
   "outputs": [
    {
     "name": "stdout",
     "output_type": "stream",
     "text": [
      "Hello World\n",
      "-> Hello World"
     ]
    }
   ],
   "source": [
    "\"Hello World\".postln;"
   ]
  },
  {
   "cell_type": "markdown",
   "id": "2334d63f-6002-4265-9eeb-42de3d1cef21",
   "metadata": {},
   "source": [
    "We surround our string with `\"` and append a `.` to tell *sclang* to run the method `postln` on the string, which will print the string to our post window.\n",
    "We end the statement with a `;`.\n",
    "\n",
    "But why do we see the string `Hello World` two times?\n",
    "This is because the post window will also print the *return value* of the statement.\n",
    "In *sclang* every statement will return something - in our case the `postln` method returns the element it was called with, therefore we see `Hello World` two times: Once due to our `postln` statement and once because the interpreter also prints the return value of our statement."
   ]
  },
  {
   "cell_type": "markdown",
   "id": "18f77bdc-263c-4784-a317-85f1090c24e7",
   "metadata": {},
   "source": [
    "## Primitives\n",
    "\n",
    "Primitives are the building blocks of a programming language and form the most basic types of data storage.\n",
    "*sclang* is a programming language which is heavily inspired from programming languages such as .... - but if you are not familiar with those it is not a problem as we will take a look at how to come around."
   ]
  },
  {
   "cell_type": "markdown",
   "id": "0ddbd481-7ed8-42fb-9b42-7b70f381f0f3",
   "metadata": {},
   "source": [
    "### Integer\n",
    "\n",
    "We have already seen above the use of integers which represent the natural numbers."
   ]
  },
  {
   "cell_type": "code",
   "execution_count": null,
   "id": "b803503d-bdc2-4fc8-977e-a397d46f0e6b",
   "metadata": {},
   "outputs": [
    {
     "name": "stdout",
     "output_type": "stream",
     "text": [
      "-> 42"
     ]
    }
   ],
   "source": [
    "42;"
   ]
  },
  {
   "cell_type": "markdown",
   "id": "20c7b182-0819-49d6-afc6-f0bcd6bdb761",
   "metadata": {},
   "source": [
    "### Floats\n",
    "\n",
    "Flating point numbers represent the real numbers."
   ]
  },
  {
   "cell_type": "code",
   "execution_count": null,
   "id": "9b60f8b0-395d-48fd-9345-5d7fd78a415e",
   "metadata": {},
   "outputs": [
    {
     "name": "stdout",
     "output_type": "stream",
     "text": [
      "-> 4.343"
     ]
    }
   ],
   "source": [
    "4.343;"
   ]
  },
  {
   "cell_type": "markdown",
   "id": "0a86893d-9c13-4c3e-b900-ba1a368a56d2",
   "metadata": {},
   "source": [
    "### Strings\n",
    "\n",
    "We have already seen a string in our *Hello World* example."
   ]
  },
  {
   "cell_type": "code",
   "execution_count": null,
   "id": "49b2c730-c0c1-492e-9243-97e02225f2fe",
   "metadata": {},
   "outputs": [
    {
     "name": "stdout",
     "output_type": "stream",
     "text": [
      "-> a string"
     ]
    }
   ],
   "source": [
    "\"a string\";"
   ]
  },
  {
   "cell_type": "markdown",
   "id": "ee86d5f2-407e-406e-bfca-c9c98deff71a",
   "metadata": {},
   "source": [
    "### Booleans\n",
    "\n",
    "Every programming language needs to provide a way to represent the two boolean values.\n",
    "In *sclang* those are represented as `true` and `false`."
   ]
  },
  {
   "cell_type": "code",
   "execution_count": null,
   "id": "f92cb86e-48e6-4012-b76e-288a00feea28",
   "metadata": {},
   "outputs": [
    {
     "name": "stdout",
     "output_type": "stream",
     "text": [
      "-> false"
     ]
    }
   ],
   "source": [
    "2+2==5"
   ]
  },
  {
   "cell_type": "code",
   "execution_count": null,
   "id": "4c3204c1-6b02-4d91-b77f-d96adb2734b3",
   "metadata": {},
   "outputs": [
    {
     "name": "stdout",
     "output_type": "stream",
     "text": [
      "-> true"
     ]
    }
   ],
   "source": [
    "2+2==4"
   ]
  },
  {
   "cell_type": "markdown",
   "id": "546cc342-d9f3-4625-9a1e-30c61f82b86b",
   "metadata": {},
   "source": [
    "### Symbols\n",
    "\n",
    "Symbols are close to Strings but they are also really different.\n",
    "Instead of surrounding our string with `\"` we prepend a `\\` to it.\n",
    "Note that this writing restricts ourselves to not use a space in a symbol."
   ]
  },
  {
   "cell_type": "code",
   "execution_count": null,
   "id": "68f10c7d-b588-4fdd-9cb2-15208bb4a21f",
   "metadata": {},
   "outputs": [
    {
     "name": "stdout",
     "output_type": "stream",
     "text": [
      "-> symbol"
     ]
    }
   ],
   "source": [
    "\\symbol"
   ]
  },
  {
   "cell_type": "markdown",
   "id": "536d01aa-648c-4219-82e7-840d83747d6c",
   "metadata": {},
   "source": [
    "So for what do we need the Symbol if we have a string? This is already an advanced topic, but basically we can say\n",
    "\n",
    "* Use a string if you use a text\n",
    "* Use a symbol if you want to reference something by a string\n",
    "\n",
    "Basically it boils down to"
   ]
  },
  {
   "cell_type": "code",
   "execution_count": null,
   "id": "06af7dab-108d-4422-8b70-40faa21543f9",
   "metadata": {},
   "outputs": [
    {
     "name": "stdout",
     "output_type": "stream",
     "text": [
      "-> false"
     ]
    }
   ],
   "source": [
    "\"foo\" === \"foo\""
   ]
  },
  {
   "cell_type": "code",
   "execution_count": null,
   "id": "b1a91abf-5463-468c-92ef-8e586c681a8c",
   "metadata": {},
   "outputs": [
    {
     "name": "stdout",
     "output_type": "stream",
     "text": [
      "-> true"
     ]
    }
   ],
   "source": [
    "\\foo === \\foo"
   ]
  },
  {
   "cell_type": "markdown",
   "id": "9db8933d-bdbc-42e7-89e7-2be74a12e1d1",
   "metadata": {},
   "source": [
    "Where `===` compares the memory address of the variable (and `==` compares it values).\n",
    "Checking for memory address is important when working with dictionaries, which store under a key (e.g. a symbol) some value (e.g. an integer)."
   ]
  },
  {
   "cell_type": "markdown",
   "id": "ef33d4f3-c044-441b-9ed3-b3ddb123cb74",
   "metadata": {},
   "source": [
    "### nil\n",
    "\n",
    "`nil` is a special concept in programming language, often also associated with `None` or `null`.\n",
    "It represents empty data and is useful to see if something was set to e.g. an integer or if it was set not at all."
   ]
  },
  {
   "cell_type": "code",
   "execution_count": null,
   "id": "f378ae1a-bc53-4f88-9113-61e71a4020b2",
   "metadata": {},
   "outputs": [
    {
     "name": "stdout",
     "output_type": "stream",
     "text": [
      "-> nil"
     ]
    }
   ],
   "source": [
    "nil"
   ]
  },
  {
   "cell_type": "markdown",
   "id": "168274bb-31c5-4355-b719-5435196e2675",
   "metadata": {},
   "source": [
    "### Arrays\n",
    "\n",
    "Arrays or *lists* are a way to store multiple items and access them later via an *index* by accessing the $i$-th item of the array by surrounding it with `[` and `]` behind our array.\n",
    "This is similiar to a notion of a vector from mathematics or like pages in a book."
   ]
  },
  {
   "cell_type": "code",
   "execution_count": null,
   "id": "32cec867-64a0-471e-a227-7048409d9aa7",
   "metadata": {},
   "outputs": [
    {
     "name": "stdout",
     "output_type": "stream",
     "text": [
      "-> [ a, 2, 4.0, true ]"
     ]
    }
   ],
   "source": [
    "[\"a\", 2, 4.0, true]"
   ]
  },
  {
   "cell_type": "markdown",
   "id": "5bcc1a02-13ce-4d59-af85-95ea3aed540b",
   "metadata": {},
   "source": [
    "And accessing the $4$-th item from the array. Note that *sclang* is start counting at $0$, so we write $3$ instead of $4$.\n",
    "This is common in most programming languages and you will get used to it."
   ]
  },
  {
   "cell_type": "code",
   "execution_count": null,
   "id": "9394bc62-aff9-4e7b-97fd-44ece05abcea",
   "metadata": {},
   "outputs": [
    {
     "name": "stdout",
     "output_type": "stream",
     "text": [
      "-> foo"
     ]
    }
   ],
   "source": [
    "[\"b\", 4, 3.0, \\foo, false][3]"
   ]
  },
  {
   "cell_type": "markdown",
   "id": "47df8d17-e0ab-4c6d-9479-8b30179a3d97",
   "metadata": {},
   "source": [
    "But what happens if we access the 5-th item if our array only consists of 3 items?"
   ]
  },
  {
   "cell_type": "code",
   "execution_count": null,
   "id": "c041f80c-ca56-4ccd-8f29-5d5d2447c84a",
   "metadata": {},
   "outputs": [
    {
     "name": "stdout",
     "output_type": "stream",
     "text": [
      "-> nil"
     ]
    }
   ],
   "source": [
    "[0, 1, 2][4]"
   ]
  },
  {
   "cell_type": "markdown",
   "id": "e974a79e-81ca-4775-ba2c-9867f288ab50",
   "metadata": {},
   "source": [
    "It will return `nil`, telling us that we accessed empty data."
   ]
  },
  {
   "cell_type": "markdown",
   "id": "f09e0eb2-60ac-4f8d-ab85-b7195b55774f",
   "metadata": {},
   "source": [
    "### Dictionaries\n",
    "\n",
    "Dictionaries allow us to store a value under a key.\n",
    "We surround them with `(` and `)` and separate the key from the value with a `:` and separate multiple key/value pairs in our dictionary with an `,`.\n",
    "Here we will create a dictionary which maps the symbol `a` to the integer $42$ and the symbol `b` to integer $43$."
   ]
  },
  {
   "cell_type": "code",
   "execution_count": null,
   "id": "62145672-b4f9-4f61-9eb7-67ab268b63a5",
   "metadata": {},
   "outputs": [
    {
     "name": "stdout",
     "output_type": "stream",
     "text": [
      "-> ( 'a': 42, 'b': 43 )"
     ]
    }
   ],
   "source": [
    "(\\a: 42, \\b: 43)"
   ]
  },
  {
   "cell_type": "markdown",
   "id": "ae30a11f-f6e7-48c9-a8de-0b7374a14d04",
   "metadata": {},
   "source": [
    "We can access the value of a dictionary similiar to an array, but instead of the position we use the key."
   ]
  },
  {
   "cell_type": "code",
   "execution_count": null,
   "id": "1cdbc69f-700a-4c67-baf6-f7dde7d02fd5",
   "metadata": {},
   "outputs": [
    {
     "name": "stdout",
     "output_type": "stream",
     "text": [
      "-> 42"
     ]
    }
   ],
   "source": [
    "(\\a: 42, \\b: 43)[\\a]"
   ]
  },
  {
   "cell_type": "markdown",
   "id": "1b4653a2-ee2b-4ba1-9e60-15fa61fbf485",
   "metadata": {},
   "source": [
    "Accessing a non existing key will return us `nil`."
   ]
  },
  {
   "cell_type": "code",
   "execution_count": null,
   "id": "9ff6c8b8-8ba4-42a5-9e52-c39e55bfccd1",
   "metadata": {},
   "outputs": [
    {
     "name": "stdout",
     "output_type": "stream",
     "text": [
      "-> nil"
     ]
    }
   ],
   "source": [
    "(\\a: 42, \\b: 43)[\\c]"
   ]
  },
  {
   "cell_type": "markdown",
   "id": "d6e8b1d4-1af4-4eae-86bd-99b35d13a8b5",
   "metadata": {},
   "source": [
    "As noted earlier it is important to use symbols instead of strings for our dictionary keys, which is demonstrated by this small example."
   ]
  },
  {
   "cell_type": "code",
   "execution_count": null,
   "id": "5f72d0e9-7b72-4bf6-93f6-db27df124349",
   "metadata": {},
   "outputs": [
    {
     "name": "stdout",
     "output_type": "stream",
     "text": [
      "-> nil"
     ]
    }
   ],
   "source": [
    "(\"a\": 42, \"b\": 43)[\"a\"]"
   ]
  },
  {
   "cell_type": "markdown",
   "id": "c8fe6b86-e079-47f0-9973-1c3dc6eeab93",
   "metadata": {},
   "source": [
    "## Multiline statements"
   ]
  },
  {
   "cell_type": "markdown",
   "id": "27232012-0da7-4ae8-b59f-41dcd8164fb1",
   "metadata": {},
   "source": [
    "## Variables"
   ]
  },
  {
   "cell_type": "markdown",
   "id": "7d1049b2-411d-477b-88fd-7c0497199cf9",
   "metadata": {},
   "source": [
    "### Determine the type of a variable"
   ]
  },
  {
   "cell_type": "markdown",
   "id": "29b239c4-4f1c-499d-b83d-c7b3e13b09e7",
   "metadata": {},
   "source": [
    "## Functions"
   ]
  },
  {
   "cell_type": "markdown",
   "id": "b1bf30a3-ef0c-4438-886d-473f226ca666",
   "metadata": {},
   "source": [
    "## Classes"
   ]
  },
  {
   "cell_type": "markdown",
   "id": "f299acff-8dc1-4680-881a-d7c2673e8b97",
   "metadata": {},
   "source": [
    "## Control structures"
   ]
  },
  {
   "cell_type": "markdown",
   "id": "bd49d3b6-747f-4134-b857-55c49f3638f8",
   "metadata": {},
   "source": [
    "## Documentation"
   ]
  },
  {
   "cell_type": "markdown",
   "id": "9671df66-c116-4616-8d48-f4264c071869",
   "metadata": {},
   "source": [
    "## Exceptions"
   ]
  },
  {
   "cell_type": "markdown",
   "id": "85845e78-5d43-485e-9a1a-6c8caa30f679",
   "metadata": {},
   "source": [
    "## Exercises"
   ]
  },
  {
   "cell_type": "code",
   "execution_count": null,
   "id": "2de85418-6b99-4a39-a2a5-119b8a4d72a7",
   "metadata": {},
   "outputs": [],
   "source": []
  }
 ],
 "metadata": {
  "kernelspec": {
   "display_name": "SuperCollider",
   "language": "",
   "name": "sc_kernel"
  },
  "language_info": {
   "file_extension": ".scd",
   "mimetype": "text/x-sclang",
   "name": "smalltalk",
   "pygments_lexer": "supercollider"
  }
 },
 "nbformat": 4,
 "nbformat_minor": 5
}
