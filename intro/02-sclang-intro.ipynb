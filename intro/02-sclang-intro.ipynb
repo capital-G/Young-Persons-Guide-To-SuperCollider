{
 "cells": [
  {
   "cell_type": "markdown",
   "id": "350b1220-f3fd-418f-9c3a-e078616a28b4",
   "metadata": {},
   "source": [
    "(quickstart_sclang)=\n",
    "# Quickstart to *sclang*\n",
    "\n",
    "*{term}`SuperCollider`* and *{term}`sclang`* are often used synomynous, but it helps for a better understanding to keep those terms separated.\n",
    "For this part we will get the first steps into *sclang*, the programming language of the SuperCollider environment.\n",
    "\n",
    "*sclang* is a programming language which is heavily inspired from programming languages such as Smalltalk and Lisp - but if you are not familiar with those programming languages it is not a problem as we will take a look at how to come around.\n",
    "\n",
    "The easiest way to start programming in *sclang* is by starting the *{term}`scide`*, which often simply gets installed as *SuperCollider* on your system.\n",
    "After this you should see something along\n",
    "\n",
    "```{figure} ./assets/scide.png\n",
    ":name: scide\n",
    "\n",
    "The SuperCollider IDE (scide): In the empty document we can insert sclang code, on the right we see the documentation and on the bottom we have the *post window* which shows us the results of the evaluated sclang code.\n",
    "The placings of each tiles can vary and can also be adjusted via the *Windows* tab.\n",
    "```"
   ]
  },
  {
   "cell_type": "markdown",
   "id": "44f4e11a-baef-4997-b8b6-6c9fa704a3dd",
   "metadata": {},
   "source": [
    "(executing_statements)=\n",
    "## Exectuing statements\n",
    "\n",
    "The most simple statement in *sclang* is probably the calculation of a number.\n",
    "To run the calculation simply type in the statement seen below and hit `ctrl+enter` on Windows/Linux and `cmd+enter` on macOS while the cursor is in the same line of the statement to execute the line."
   ]
  },
  {
   "cell_type": "code",
   "execution_count": null,
   "id": "8ebaaccc-6ec5-4d00-9808-ff92e8500cf0",
   "metadata": {},
   "outputs": [
    {
     "name": "stdout",
     "output_type": "stream",
     "text": [
      "-> 4"
     ]
    }
   ],
   "source": [
    "2+2;"
   ]
  },
  {
   "cell_type": "markdown",
   "id": "e3beef62-0542-4b4a-a3bb-8c591eae695b",
   "metadata": {},
   "source": [
    "You will see the result `-> 4` in the post window. Congrats on running your first line of code and also your first calculation within sclang.\n",
    "\n",
    "So how does the infamous *Hello World* program look like in SuperCollider, a programm which should simply print out *Hello World*?"
   ]
  },
  {
   "cell_type": "code",
   "execution_count": null,
   "id": "c2c42a41-6437-4af5-aed4-4c9577f6cc56",
   "metadata": {},
   "outputs": [
    {
     "name": "stdout",
     "output_type": "stream",
     "text": [
      "Hello World\n",
      "-> Hello World"
     ]
    }
   ],
   "source": [
    "\"Hello World\".postln;"
   ]
  },
  {
   "cell_type": "markdown",
   "id": "2334d63f-6002-4265-9eeb-42de3d1cef21",
   "metadata": {},
   "source": [
    "We surround our string we want to print with `\"` and append a `.` to tell *sclang* to run the {term}`method` `postln` on the string, which will print the string to our post window.\n",
    "We end each statement in sclang with a `;` which we can omit if we only evaluate a single statement, but it is best practice to always write it down.\n",
    "\n",
    "But regarding the output in our post window: why do we see the string `Hello World` two times?\n",
    "This is because the post window will also always print the *return value* of the statement (aka line of code).\n",
    "In *sclang* every statement will return something - in our case the `postln` method returns the element it was called with, therefore we see `Hello World` two times: Once due to our `postln` statement and once because the interpreter also prints the return value of our statement.\n",
    "\n",
    "We could therefore simply also just say"
   ]
  },
  {
   "cell_type": "code",
   "execution_count": null,
   "id": "a3b82e38-19c4-41a6-9644-af2405d492bc",
   "metadata": {},
   "outputs": [
    {
     "name": "stdout",
     "output_type": "stream",
     "text": [
      "-> Hello World"
     ]
    }
   ],
   "source": [
    "\"Hello World\";"
   ]
  },
  {
   "cell_type": "markdown",
   "id": "0279c962-0c5b-4b33-aff0-31d84a019099",
   "metadata": {},
   "source": [
    "```{admonition} Questions and exercises\n",
    "1. Try out and modify the Hello World program\n",
    "2. What indicates the `.` in `\"Hello World\".postln`?\n",
    "3. Why can we omit the `.postln` statement in our last example?\n",
    "```"
   ]
  },
  {
   "cell_type": "markdown",
   "id": "18f77bdc-263c-4784-a317-85f1090c24e7",
   "metadata": {},
   "source": [
    "(primitives)=\n",
    "## Primitives\n",
    "\n",
    "Primitives are the basic data entities of a programming language and allows us to store different kind of data.\n",
    "We will later see on how we can combine multiple of such primitive data types, allowing us to store more complex data as well."
   ]
  },
  {
   "cell_type": "markdown",
   "id": "0ddbd481-7ed8-42fb-9b42-7b70f381f0f3",
   "metadata": {},
   "source": [
    "(prim_integer)=\n",
    "### Integer\n",
    "\n",
    "An integer represents a whole number which we will use a lot during programming SuperCollider to e.g. enumerate multiple items, but we are getting ahead of ourselves.\n",
    "\n",
    "We have already seen integers above where we executed `2+2` and they are simply written down like"
   ]
  },
  {
   "cell_type": "code",
   "execution_count": null,
   "id": "b803503d-bdc2-4fc8-977e-a397d46f0e6b",
   "metadata": {},
   "outputs": [
    {
     "name": "stdout",
     "output_type": "stream",
     "text": [
      "-> 42"
     ]
    }
   ],
   "source": [
    "42;"
   ]
  },
  {
   "cell_type": "markdown",
   "id": "20c7b182-0819-49d6-afc6-f0bcd6bdb761",
   "metadata": {},
   "source": [
    "(prim_float)=\n",
    "### Float\n",
    "\n",
    "Floating point numbers (also called *floats*) represent any whole and not-whole numbers.\n",
    "Those can occur due to fractions, roots or allow us to reperesent irrational numbers like $\\pi$ within some accuracy, see [floating point precision](https://en.wikipedia.org/wiki/Single-precision_floating-point_format).\n",
    "As $pi$ has infinite digits we could not store them in our computer memory as this would need an infinite amount of memory as well, therefore we reperesnt such numbers only within a margin which is often good enough."
   ]
  },
  {
   "cell_type": "code",
   "execution_count": null,
   "id": "9b60f8b0-395d-48fd-9345-5d7fd78a415e",
   "metadata": {},
   "outputs": [
    {
     "name": "stdout",
     "output_type": "stream",
     "text": [
      "-> 4.343"
     ]
    }
   ],
   "source": [
    "4.343;"
   ]
  },
  {
   "cell_type": "code",
   "execution_count": null,
   "id": "0f9f44ab-6e66-4c20-be4b-242f8027dc55",
   "metadata": {},
   "outputs": [
    {
     "name": "stdout",
     "output_type": "stream",
     "text": [
      "-> 3.1415926535898"
     ]
    }
   ],
   "source": [
    "pi"
   ]
  },
  {
   "cell_type": "markdown",
   "id": "33830ebb-cbd7-43b6-b74a-b829eec7a96f",
   "metadata": {},
   "source": [
    "A whole number (aka an {ref}`prim_integer`) can also be written as a float, therefore any integer can be written as a float but not vice versa."
   ]
  },
  {
   "cell_type": "code",
   "execution_count": null,
   "id": "e322e72f-e6d1-47e3-b5f5-bcc5f42e105d",
   "metadata": {},
   "outputs": [
    {
     "name": "stdout",
     "output_type": "stream",
     "text": [
      "-> 42.0"
     ]
    }
   ],
   "source": [
    "42.0"
   ]
  },
  {
   "cell_type": "markdown",
   "id": "0a86893d-9c13-4c3e-b900-ba1a368a56d2",
   "metadata": {},
   "source": [
    "(prim_string)=\n",
    "### String\n",
    "\n",
    "We have already seen a string in our *Hello World* example.\n",
    "Strings allow us to store a line of characters which often represent text."
   ]
  },
  {
   "cell_type": "code",
   "execution_count": null,
   "id": "49b2c730-c0c1-492e-9243-97e02225f2fe",
   "metadata": {},
   "outputs": [
    {
     "name": "stdout",
     "output_type": "stream",
     "text": [
      "-> a string"
     ]
    }
   ],
   "source": [
    "\"a string\";"
   ]
  },
  {
   "cell_type": "markdown",
   "id": "ee86d5f2-407e-406e-bfca-c9c98deff71a",
   "metadata": {
    "tags": []
   },
   "source": [
    "(prim_boolean)=\n",
    "### Boolean\n",
    "\n",
    "Every programming language needs to provide a way to represent the two boolean values, if something is true or not.\n",
    "In *sclang* this is represented by `true` and `false`."
   ]
  },
  {
   "cell_type": "code",
   "execution_count": null,
   "id": "60936229-ccea-427c-8cb4-d59e8b72a9d7",
   "metadata": {},
   "outputs": [
    {
     "name": "stdout",
     "output_type": "stream",
     "text": [
      "-> true"
     ]
    }
   ],
   "source": [
    "true"
   ]
  },
  {
   "cell_type": "code",
   "execution_count": null,
   "id": "d5ef945c-7eb6-46cd-8c93-5db2172fe386",
   "metadata": {},
   "outputs": [
    {
     "name": "stdout",
     "output_type": "stream",
     "text": [
      "-> false"
     ]
    }
   ],
   "source": [
    "false"
   ]
  },
  {
   "cell_type": "markdown",
   "id": "8f2b370c-c0a9-498f-80f9-c3abd784199f",
   "metadata": {},
   "source": [
    "We can simply construct a boolean statement by comparing two primitives.\n",
    "Here we want to check if $2+2=5$ is true or if $2+2=4$ is true."
   ]
  },
  {
   "cell_type": "code",
   "execution_count": null,
   "id": "f92cb86e-48e6-4012-b76e-288a00feea28",
   "metadata": {},
   "outputs": [
    {
     "name": "stdout",
     "output_type": "stream",
     "text": [
      "-> false"
     ]
    }
   ],
   "source": [
    "2+2==5"
   ]
  },
  {
   "cell_type": "code",
   "execution_count": null,
   "id": "4c3204c1-6b02-4d91-b77f-d96adb2734b3",
   "metadata": {},
   "outputs": [
    {
     "name": "stdout",
     "output_type": "stream",
     "text": [
      "-> true"
     ]
    }
   ],
   "source": [
    "2+2==4"
   ]
  },
  {
   "cell_type": "markdown",
   "id": "546cc342-d9f3-4625-9a1e-30c61f82b86b",
   "metadata": {},
   "source": [
    "(prim_symbol)=\n",
    "### Symbol\n",
    "\n",
    "A Symbol may look like a {ref}`prim_string` but they are actually really different in a specific detail.\n",
    "Instead of surrounding our string with `\"` we prepend a `\\` to it or surround it with `'`.\n",
    "Note that the first writing restricts ourselves to not use a space in a symbol."
   ]
  },
  {
   "cell_type": "code",
   "execution_count": null,
   "id": "68f10c7d-b588-4fdd-9cb2-15208bb4a21f",
   "metadata": {},
   "outputs": [
    {
     "name": "stdout",
     "output_type": "stream",
     "text": [
      "-> symbol"
     ]
    }
   ],
   "source": [
    "\\symbol"
   ]
  },
  {
   "cell_type": "code",
   "execution_count": null,
   "id": "601c8a21-a618-42de-aeb2-93ac6fa231af",
   "metadata": {},
   "outputs": [
    {
     "name": "stdout",
     "output_type": "stream",
     "text": [
      "-> another symbol"
     ]
    }
   ],
   "source": [
    "'another symbol'"
   ]
  },
  {
   "cell_type": "markdown",
   "id": "536d01aa-648c-4219-82e7-840d83747d6c",
   "metadata": {},
   "source": [
    "So for what do we need the Symbol if we have a string? This is already an advanced topic, but as we will need this a lot in sclang and you will get this wrong at some point it is good to learn this already at the beginning.\n",
    "Basically we can say\n",
    "\n",
    "* Use a string if you use a (long) text\n",
    "* Use a symbol if you want to reference something by a name\n",
    "\n",
    "So if you want to give an object a name under which you can later find it: use a symbol.\n",
    "If you simply want to print out some text: A string is good enough for this.\n",
    "\n",
    "The difference between a string and a symbol lies here:"
   ]
  },
  {
   "cell_type": "code",
   "execution_count": null,
   "id": "06af7dab-108d-4422-8b70-40faa21543f9",
   "metadata": {},
   "outputs": [
    {
     "name": "stdout",
     "output_type": "stream",
     "text": [
      "-> false"
     ]
    }
   ],
   "source": [
    "\"foo\" === \"foo\""
   ]
  },
  {
   "cell_type": "code",
   "execution_count": null,
   "id": "b1a91abf-5463-468c-92ef-8e586c681a8c",
   "metadata": {},
   "outputs": [
    {
     "name": "stdout",
     "output_type": "stream",
     "text": [
      "-> true"
     ]
    }
   ],
   "source": [
    "\\foo === \\foo"
   ]
  },
  {
   "cell_type": "markdown",
   "id": "9db8933d-bdbc-42e7-89e7-2be74a12e1d1",
   "metadata": {},
   "source": [
    "where `===` compares the actual memory address of the variable (`==` compares only its values).\n",
    "Checking for memory address is important when referencing something by name or when working with {ref}`prim_dict`, which store under a key (e.g. a {ref}`prim_symbol`) some value (e.g. an {ref}`prim_integer`)."
   ]
  },
  {
   "cell_type": "markdown",
   "id": "ef33d4f3-c044-441b-9ed3-b3ddb123cb74",
   "metadata": {},
   "source": [
    "(prim_nil)=\n",
    "### nil\n",
    "\n",
    "`nil` is a special concept in a programming language, often also associated with `None` or `null`.\n",
    "It represents empty or non-initiated data and is useful to see if something was set to e.g. an integer or if it was set not at all.\n",
    "\n",
    "You will learn to appreciate it when writing programs as it often allows you to implement default values which are only used if explicetely set."
   ]
  },
  {
   "cell_type": "code",
   "execution_count": null,
   "id": "f378ae1a-bc53-4f88-9113-61e71a4020b2",
   "metadata": {},
   "outputs": [
    {
     "name": "stdout",
     "output_type": "stream",
     "text": [
      "-> nil"
     ]
    }
   ],
   "source": [
    "nil"
   ]
  },
  {
   "cell_type": "markdown",
   "id": "b4b8c18e-a140-46a3-8a05-c1d1197d67de",
   "metadata": {},
   "source": [
    "```{admonition} Questions and exercises\n",
    "1. What is the difference between an Integer and a Float?\n",
    "2. When to use a Symbol and when to use a String?\n",
    "3. Construct a boolean statement with each primitive.\n",
    "```"
   ]
  },
  {
   "cell_type": "markdown",
   "id": "168274bb-31c5-4355-b719-5435196e2675",
   "metadata": {},
   "source": [
    "## Combining primitives\n",
    "\n",
    "Those were all the datatypes that we have available and those are already sufficient to build more complex buildings by combining them.\n",
    "Have in mind that all these discussed primitives are already abstractions in form of bytes and bits (`0`s and `1`s), the only thing that a computer can work with.\n",
    "\n",
    "(prim_array)=\n",
    "### Array\n",
    "\n",
    "Arrays or *lists* are a way to store multiple items and access them later via an *index* by accessing the $i$-th item of the array by surrounding it with `[` and `]` behind our array.\n",
    "This is similiar to a notion of a vector from mathematics or like pages in a book.\n",
    "Within a list we can store any kind of primitive next to each other."
   ]
  },
  {
   "cell_type": "code",
   "execution_count": null,
   "id": "32cec867-64a0-471e-a227-7048409d9aa7",
   "metadata": {},
   "outputs": [
    {
     "name": "stdout",
     "output_type": "stream",
     "text": [
      "-> [ a, 2, 4.0, true ]"
     ]
    }
   ],
   "source": [
    "[\"a\", 2, 4.0, true]"
   ]
  },
  {
   "cell_type": "markdown",
   "id": "5bcc1a02-13ce-4d59-af85-95ea3aed540b",
   "metadata": {},
   "source": [
    "We now want to access the $4$-th item of the array.\n",
    "Note that *sclang*, as almost all programming languages, start counting at $0$, therefore we have to write $3$ instead of $4$."
   ]
  },
  {
   "cell_type": "code",
   "execution_count": null,
   "id": "9394bc62-aff9-4e7b-97fd-44ece05abcea",
   "metadata": {},
   "outputs": [
    {
     "name": "stdout",
     "output_type": "stream",
     "text": [
      "-> foo"
     ]
    }
   ],
   "source": [
    "[\"b\", 4, 3.0, \\foo, false][3]"
   ]
  },
  {
   "cell_type": "markdown",
   "id": "47df8d17-e0ab-4c6d-9479-8b30179a3d97",
   "metadata": {},
   "source": [
    "But what happens if we access the $5$-th item if our array only consists of $3$ items?"
   ]
  },
  {
   "cell_type": "code",
   "execution_count": null,
   "id": "c041f80c-ca56-4ccd-8f29-5d5d2447c84a",
   "metadata": {},
   "outputs": [
    {
     "name": "stdout",
     "output_type": "stream",
     "text": [
      "-> nil"
     ]
    }
   ],
   "source": [
    "[0, 1, 2][4]"
   ]
  },
  {
   "cell_type": "markdown",
   "id": "e974a79e-81ca-4775-ba2c-9867f288ab50",
   "metadata": {},
   "source": [
    "It will return {ref}`prim_nil`, giving us a hint that we have accessed empty data.\n",
    "\n",
    "To create an empty array we simply use"
   ]
  },
  {
   "cell_type": "code",
   "execution_count": null,
   "id": "e17e05f6-38ee-4e9e-9b68-c6129c879b89",
   "metadata": {},
   "outputs": [
    {
     "name": "stdout",
     "output_type": "stream",
     "text": [
      "-> [  ]"
     ]
    }
   ],
   "source": [
    "[]"
   ]
  },
  {
   "cell_type": "markdown",
   "id": "f09e0eb2-60ac-4f8d-ab85-b7195b55774f",
   "metadata": {},
   "source": [
    "(prim_dict)=\n",
    "### Dictionary\n",
    "\n",
    "Dictionaries allow us to store a value under a key.\n",
    "We surround them with `(` and `)` and separate the key from the value with a `:` and separate multiple key/value pairs in our dictionary with an `,`.\n",
    "Here we will create a dictionary which maps the {ref}`prim_symbol` `a` to the {ref}`prim_integer` $42$ and the symbol `b` to integer $43$."
   ]
  },
  {
   "cell_type": "code",
   "execution_count": null,
   "id": "62145672-b4f9-4f61-9eb7-67ab268b63a5",
   "metadata": {},
   "outputs": [
    {
     "name": "stdout",
     "output_type": "stream",
     "text": [
      "-> ( 'a': 42, 'b': 43 )"
     ]
    }
   ],
   "source": [
    "(\\a: 42, \\b: 43)"
   ]
  },
  {
   "cell_type": "markdown",
   "id": "ae30a11f-f6e7-48c9-a8de-0b7374a14d04",
   "metadata": {},
   "source": [
    "We can access the value of a dictionary similiar to an array, but instead of the position we use the key."
   ]
  },
  {
   "cell_type": "code",
   "execution_count": null,
   "id": "1cdbc69f-700a-4c67-baf6-f7dde7d02fd5",
   "metadata": {},
   "outputs": [
    {
     "name": "stdout",
     "output_type": "stream",
     "text": [
      "-> 42"
     ]
    }
   ],
   "source": [
    "(\\a: 42, \\b: 43)[\\a]"
   ]
  },
  {
   "cell_type": "markdown",
   "id": "1b4653a2-ee2b-4ba1-9e60-15fa61fbf485",
   "metadata": {},
   "source": [
    "Accessing a non existing key will return us {ref}`prim_nil`."
   ]
  },
  {
   "cell_type": "code",
   "execution_count": null,
   "id": "9ff6c8b8-8ba4-42a5-9e52-c39e55bfccd1",
   "metadata": {},
   "outputs": [
    {
     "name": "stdout",
     "output_type": "stream",
     "text": [
      "-> nil"
     ]
    }
   ],
   "source": [
    "(\\a: 42, \\b: 43)[\\c]"
   ]
  },
  {
   "cell_type": "markdown",
   "id": "d6e8b1d4-1af4-4eae-86bd-99b35d13a8b5",
   "metadata": {},
   "source": [
    "As noted earlier it is important to use symbols instead of strings for our dictionary keys, which is demonstrated by this small example."
   ]
  },
  {
   "cell_type": "code",
   "execution_count": null,
   "id": "5f72d0e9-7b72-4bf6-93f6-db27df124349",
   "metadata": {},
   "outputs": [
    {
     "name": "stdout",
     "output_type": "stream",
     "text": [
      "-> nil"
     ]
    }
   ],
   "source": [
    "(\"a\": 42, \"b\": 43)[\"a\"]"
   ]
  },
  {
   "cell_type": "markdown",
   "id": "512ea136-e327-4be8-8396-e5058ef377d1",
   "metadata": {},
   "source": [
    "Dictionaries are really powerful as we can also nest them or also store {ref}`Arrays <prim_array>` in it.\n",
    "Try to understand the following line."
   ]
  },
  {
   "cell_type": "code",
   "execution_count": null,
   "id": "ff9d6b42-61bf-470b-8638-323f76b7a7fc",
   "metadata": {},
   "outputs": [
    {
     "name": "stdout",
     "output_type": "stream",
     "text": [
      "-> nested"
     ]
    }
   ],
   "source": [
    "(\\a: (\\some: \\nested), \\b: [42, 45])[\\a][\\some]"
   ]
  },
  {
   "cell_type": "markdown",
   "id": "bf12f2f9-0f6c-4ffc-a859-ca9d4a70fb21",
   "metadata": {},
   "source": [
    "To create an empty dictionary (so without any key/value pairs) we simply write"
   ]
  },
  {
   "cell_type": "code",
   "execution_count": null,
   "id": "1f3d2f09-9c31-4425-bd71-7b36827cc422",
   "metadata": {},
   "outputs": [
    {
     "name": "stdout",
     "output_type": "stream",
     "text": [
      "-> (  )"
     ]
    }
   ],
   "source": [
    "()"
   ]
  },
  {
   "cell_type": "markdown",
   "id": "6a821eb6-8d76-49f3-bfd1-e0a4df338470",
   "metadata": {},
   "source": [
    "```{admonition} Questions and exercises\n",
    "1. Which index has the item `3` in `[1, 2, 3, 4]`?\n",
    "2. What is the return value when accessing an emtpy index in an array? What is returned when accessing an empty key in an dictionary?\n",
    "3. Write a nested dictionary which returns `\"hello world\"` when accessed via `[\\what][2][\\say]`\n",
    "```"
   ]
  },
  {
   "cell_type": "markdown",
   "id": "c8fe6b86-e079-47f0-9973-1c3dc6eeab93",
   "metadata": {},
   "source": [
    "(multiline_statements)=\n",
    "## Multiline statements\n",
    "\n",
    "Before we start exploring *sclang* further we want to mention on how to execute mulitple lines or statements at once which will become necessary at some point.\n",
    "Until now we always executed statements which were not longer than 1 line, therefore the tailing `;` was optional, but this becomes now mandatory.\n",
    "\n",
    "To run multiple statements at once we need to surround the statement with `(` and `)`, so\n",
    "\n",
    "```supercollider\n",
    "(\n",
    "\"hello\".postln;\n",
    "\"world\".postln;\n",
    ")\n",
    "```\n",
    "\n",
    "Move the cursor into the brackets and hit `ctrl+enter` on Linux/Windows or `cmd+enter` on macOS.\n",
    "\n",
    "\n",
    "```{figure} ./assets/multiline.gif\n",
    ":name: multiline\n",
    "\n",
    "Surround your multiple statements (separated by a `;`) that you want to execute with brackets and move your cursor into the surrounded part of the brackets by clicking somewhere between it and execute it by pressing `cmd+enter` / `ctrl+enter`.\n",
    "```\n",
    "\n",
    "```{important}\n",
    "In this documentation we will omit these brackets on multiline statements.\n",
    "Each cell should be regarded as a multi-line block, surrounded by `(` and `)`.\n",
    "```\n"
   ]
  },
  {
   "cell_type": "markdown",
   "id": "27232012-0da7-4ae8-b59f-41dcd8164fb1",
   "metadata": {},
   "source": [
    "## Variables\n",
    "\n",
    "Variables allow us to store and modify data (so, {ref}`primitives`) by referencing to it via a name.\n",
    "\n",
    "Here we start by assigning the variable `a` to the {ref}`prim_integer` $42$.\n",
    "Do not confuse `a` with a {ref}`prim_string` or a {ref}`prim_symbol` as this stores actual data, a variable is simply a name under which we can reference data and we have to respect the contsraints of the language syntax here which means that no whitespaces are allowed in a variable name."
   ]
  },
  {
   "cell_type": "code",
   "execution_count": null,
   "id": "8697c6ec-2ad9-4679-9c8d-f0ecfc198431",
   "metadata": {},
   "outputs": [
    {
     "name": "stdout",
     "output_type": "stream",
     "text": [
      "-> 42"
     ]
    }
   ],
   "source": [
    "a = 42;"
   ]
  },
  {
   "cell_type": "markdown",
   "id": "c572fe63-7aeb-4240-ba5f-f0416dcdb249",
   "metadata": {},
   "source": [
    "We can now regard `a` as a represent of $42$ and use this in calculations."
   ]
  },
  {
   "cell_type": "code",
   "execution_count": null,
   "id": "cdcd326d-37a0-498c-aced-a01f3cd424d7",
   "metadata": {},
   "outputs": [
    {
     "name": "stdout",
     "output_type": "stream",
     "text": [
      "-> 46"
     ]
    }
   ],
   "source": [
    "a + 4;"
   ]
  },
  {
   "cell_type": "markdown",
   "id": "1ed0c3fe-2cb3-44bf-8c4a-4887720d360c",
   "metadata": {},
   "source": [
    "We can also store a {ref}`prim_dict` or a {ref}`prim_array` under a variable."
   ]
  },
  {
   "cell_type": "code",
   "execution_count": null,
   "id": "2275d4e8-4f4e-4261-8ae5-777190602ab7",
   "metadata": {},
   "outputs": [
    {
     "name": "stdout",
     "output_type": "stream",
     "text": [
      "-> 3"
     ]
    }
   ],
   "source": [
    "b = [0, 1, 3, 5, 10];\n",
    "b[2];"
   ]
  },
  {
   "cell_type": "markdown",
   "id": "39c7c355-09e7-4bd9-86ee-34ca6c53b114",
   "metadata": {},
   "source": [
    "But *sclang* has a restriction that may seem strange: global variables (global means they are available everywhere, see {ref}`namespace` later) can only have one character!\n",
    "Setting a variable with more than one character"
   ]
  },
  {
   "cell_type": "code",
   "execution_count": null,
   "id": "ec0a7520-fcd6-41b1-87d4-390272760c2d",
   "metadata": {},
   "outputs": [
    {
     "name": "stdout",
     "output_type": "stream",
     "text": [
      "\".postln; result = {abc = 42;}.value(); postf(\"-> %\n",
      "                                                               \n",
      "  \", result); \""
     ]
    }
   ],
   "source": [
    "abc = 42;"
   ]
  },
  {
   "cell_type": "markdown",
   "id": "c87826dd-971a-43aa-bccc-e82a881423de",
   "metadata": {},
   "source": [
    "results in\n",
    "\n",
    "```text\n",
    "ERROR: Variable 'abc' not defined.\n",
    "```\n",
    "\n",
    "There are some methods to circumvent this from which we will show two."
   ]
  },
  {
   "cell_type": "markdown",
   "id": "566cf6a3-6a2c-46ed-a921-fbbb918b0fc7",
   "metadata": {},
   "source": [
    "### Using a global dictionary\n",
    "\n",
    "The first method is to create a dictionary under a global variable name (often `q`) which will allow us to create a mapping of symbol keys to abitrary values, even nested dictionaries.\n",
    "Sounds more complex than it actually is but it is really powerful tool.\n",
    "\n",
    "We start by intiating an empty dictionary."
   ]
  },
  {
   "cell_type": "code",
   "execution_count": null,
   "id": "9466a695-b6ea-485d-a392-50773033cf3b",
   "metadata": {},
   "outputs": [
    {
     "name": "stdout",
     "output_type": "stream",
     "text": [
      "-> (  )"
     ]
    }
   ],
   "source": [
    "q = ();\n",
    "q;"
   ]
  },
  {
   "cell_type": "markdown",
   "id": "f0578f69-b028-4696-b9e4-89864e6277b1",
   "metadata": {},
   "source": [
    "We can now add key/value pairs to the dictionary `q` via"
   ]
  },
  {
   "cell_type": "code",
   "execution_count": null,
   "id": "b93bb0e7-d575-4a33-9948-c7c047a960b0",
   "metadata": {},
   "outputs": [
    {
     "name": "stdout",
     "output_type": "stream",
     "text": [
      "-> ( 'abc': 42 )"
     ]
    }
   ],
   "source": [
    "q[\\abc] = 42;"
   ]
  },
  {
   "cell_type": "markdown",
   "id": "4b5bc391-51a4-4d98-8f29-15b58b605484",
   "metadata": {},
   "source": [
    "and can access them via"
   ]
  },
  {
   "cell_type": "code",
   "execution_count": null,
   "id": "8c977adc-eae3-40d6-8184-20ce39da8a37",
   "metadata": {},
   "outputs": [
    {
     "name": "stdout",
     "output_type": "stream",
     "text": [
      "-> 44"
     ]
    }
   ],
   "source": [
    "q[\\abc] + 2;"
   ]
  },
  {
   "cell_type": "markdown",
   "id": "8c72ead0-29d2-4754-93dc-d99828ab97b3",
   "metadata": {},
   "source": [
    "and creating a nested dictionary via"
   ]
  },
  {
   "cell_type": "code",
   "execution_count": null,
   "id": "3f5f3bb5-aa3f-43a3-a589-8f000bb2ed85",
   "metadata": {},
   "outputs": [
    {
     "name": "stdout",
     "output_type": "stream",
     "text": [
      "-> ( 'foo': ( 'bar': 42, 'baz': 44 ), 'abc': 42 )"
     ]
    }
   ],
   "source": [
    "q[\\foo] = (\\bar: 42, \\baz: 44);"
   ]
  },
  {
   "cell_type": "markdown",
   "id": "2bd68c3a-9312-45e2-8e2c-893fe4cc2636",
   "metadata": {},
   "source": [
    "and access it"
   ]
  },
  {
   "cell_type": "code",
   "execution_count": null,
   "id": "e30b16fe-ccc4-46af-928e-49b361c86866",
   "metadata": {},
   "outputs": [
    {
     "name": "stdout",
     "output_type": "stream",
     "text": [
      "-> 42"
     ]
    }
   ],
   "source": [
    "q[\\foo][\\bar];"
   ]
  },
  {
   "cell_type": "markdown",
   "id": "6c0b0c53-ac27-4220-b9e1-74727bfdfbc6",
   "metadata": {},
   "source": [
    "and can modify existing values"
   ]
  },
  {
   "cell_type": "code",
   "execution_count": null,
   "id": "868d3e0e-114e-42a4-ac01-69a2ce395fa9",
   "metadata": {},
   "outputs": [
    {
     "name": "stdout",
     "output_type": "stream",
     "text": [
      "-> ( 'foo': ( 'bar': 42, 'baz': 44 ), 'abc': cde )"
     ]
    }
   ],
   "source": [
    "q[\\abc] = \"cde\";"
   ]
  },
  {
   "cell_type": "code",
   "execution_count": null,
   "id": "0ca20caf-071a-41b3-81a7-7d1d82ce0f94",
   "metadata": {},
   "outputs": [
    {
     "name": "stdout",
     "output_type": "stream",
     "text": [
      "-> ( 'foo': ( 'bar': 42, 'baz': 44 ), 'abc': cde )"
     ]
    }
   ],
   "source": [
    "q;"
   ]
  },
  {
   "cell_type": "markdown",
   "id": "6fd6a5d0-4173-4210-841d-94595807b3c4",
   "metadata": {},
   "source": [
    "### Using environment\n",
    "\n",
    "The usage of an [Environment](https://doc.sccode.org/Classes/Environment.html) is actually a pretty advanced within sclang but for now we can simply use it without understanding the inner mechanics and usages within sclang.\n",
    "\n",
    "It simply allows us to create variables with multiple chars by prepending a `~` to it."
   ]
  },
  {
   "cell_type": "code",
   "execution_count": null,
   "id": "4cc76bd0-cb77-4c2a-b762-b3381c727bf1",
   "metadata": {},
   "outputs": [
    {
     "name": "stdout",
     "output_type": "stream",
     "text": [
      "-> 42"
     ]
    }
   ],
   "source": [
    "~abc = 42;"
   ]
  },
  {
   "cell_type": "code",
   "execution_count": null,
   "id": "00bf34a9-8e1b-4fce-8e79-b9846fed89e2",
   "metadata": {},
   "outputs": [
    {
     "name": "stdout",
     "output_type": "stream",
     "text": [
      "-> 46"
     ]
    }
   ],
   "source": [
    "~abc + 4;"
   ]
  },
  {
   "cell_type": "markdown",
   "id": "cc67c492-a868-449a-b177-dc02d6f77bcf",
   "metadata": {},
   "source": [
    "Try out both ways to see what suits you best, but be aware: there is a certain style of programming *sclang* for which the `~` writing will lead to troubles, but we will care about this at a later stage and should not confuse you for now.\n",
    "\n",
    "\n",
    "```{hint}\n",
    "[Environment](https://doc.sccode.org/Classes/Environment.html) uses internally a dictionary as well.\n",
    "The single character global variables are actually members of the [Interpreter](https://doc.sccode.org/Classes/Interpreter.html) class, see [here](https://github.com/supercollider/supercollider/blob/b38fbc1bac91c698ddaf8c880f987b282a2112c9/SCClassLibrary/Common/Core/Kernel.sc#L594-L599).\n",
    "```"
   ]
  },
  {
   "cell_type": "markdown",
   "id": "7d1049b2-411d-477b-88fd-7c0497199cf9",
   "metadata": {
    "tags": []
   },
   "source": [
    "### Determine the type of a variable\n",
    "\n",
    "To figure out the type of a variable we can execute the method `.class` on our variable."
   ]
  },
  {
   "cell_type": "code",
   "execution_count": null,
   "id": "3711d9e9-f558-440c-abb5-e93868ffdeea",
   "metadata": {},
   "outputs": [
    {
     "name": "stdout",
     "output_type": "stream",
     "text": [
      "-> Integer"
     ]
    }
   ],
   "source": [
    "a = 42;\n",
    "a.class;"
   ]
  },
  {
   "cell_type": "markdown",
   "id": "5416bfc3-128d-48a4-8f91-9f7ee4254559",
   "metadata": {},
   "source": [
    "## Comments\n",
    "\n",
    "Comments are a crucial part when writing code to indicate any intentions which do not have place in code.\n",
    "Maybe something could not be solved in a trival way and had to be solved in a very difficult way, or could not be solved at all and should be regarded as a hint for other users at a later time.\n",
    "\n",
    "Comments will not be executed and therefore they are a great way to also to temporarly deactivate specific regions of the code.\n",
    "\n",
    "*sclang* allows two ways to create comments"
   ]
  },
  {
   "cell_type": "markdown",
   "id": "e6fba9c1-94f9-4196-a97d-dcb63a5cf2bb",
   "metadata": {},
   "source": [
    "### Single line comments\n",
    "\n",
    "A single line comment can by indicated by simply prepending `//` to a line"
   ]
  },
  {
   "cell_type": "code",
   "execution_count": null,
   "id": "3c716176-f263-4d5b-9c10-6521345a98e1",
   "metadata": {},
   "outputs": [
    {
     "name": "stdout",
     "output_type": "stream",
     "text": [
      "this is not a comment\n",
      "-> this is not a comment"
     ]
    }
   ],
   "source": [
    "// \"this is a comment\".postln;\n",
    "\"this is not a comment\".postln;"
   ]
  },
  {
   "cell_type": "markdown",
   "id": "eaf241fb-0591-4285-b9d1-6f151318b0d9",
   "metadata": {},
   "source": [
    "### Multi line comments\n",
    "\n",
    "To tag multiple lines as a comment we can simply surround them with `\\*` and `*\\`."
   ]
  },
  {
   "cell_type": "code",
   "execution_count": null,
   "id": "483df2ae-0181-4e1d-901c-6691d9757369",
   "metadata": {},
   "outputs": [
    {
     "name": "stdout",
     "output_type": "stream",
     "text": [
      "-> 46"
     ]
    }
   ],
   "source": [
    "/* some comment\n",
    "that goes across\n",
    "multpile lines\n",
    "*/\n",
    "42+4;"
   ]
  },
  {
   "cell_type": "markdown",
   "id": "29b239c4-4f1c-499d-b83d-c7b3e13b09e7",
   "metadata": {},
   "source": [
    "## Functions\n",
    "\n",
    "Functions are a crucial building block of *sclang* and are first class citizens, meaning that variables can not just hold data but also functions.\n",
    "This also means that all our functions are anonymous, so without a name. We can simply refer to them via a variable.\n",
    "\n",
    "The content of a function is surrounded by `{` and `}`."
   ]
  },
  {
   "cell_type": "code",
   "execution_count": null,
   "id": "4ed47cf2-e580-4e36-a9fb-b7e00ac2acdb",
   "metadata": {},
   "outputs": [
    {
     "name": "stdout",
     "output_type": "stream",
     "text": [
      "-> a Function"
     ]
    }
   ],
   "source": [
    "f = {\"hello world\".postln;}"
   ]
  },
  {
   "cell_type": "markdown",
   "id": "b49d8185-afc5-462a-8bee-384d003ba2e2",
   "metadata": {},
   "source": [
    "To execute the function we have multiple ways in *sclang*.\n",
    "We can either use the `.value` method of the function"
   ]
  },
  {
   "cell_type": "code",
   "execution_count": null,
   "id": "312b12a9-639c-44ac-8783-01d6e026b3b7",
   "metadata": {},
   "outputs": [
    {
     "name": "stdout",
     "output_type": "stream",
     "text": [
      "hello world\n",
      "-> hello world"
     ]
    }
   ],
   "source": [
    "f.value();"
   ]
  },
  {
   "cell_type": "markdown",
   "id": "193c158f-0367-49af-9ce7-9deb1b7c29d0",
   "metadata": {},
   "source": [
    "or simply use `.()` on the function."
   ]
  },
  {
   "cell_type": "code",
   "execution_count": null,
   "id": "fa70be7c-d803-498d-b61a-8a91bf4f6e39",
   "metadata": {},
   "outputs": [
    {
     "name": "stdout",
     "output_type": "stream",
     "text": [
      "hello world\n",
      "-> hello world"
     ]
    }
   ],
   "source": [
    "f.();"
   ]
  },
  {
   "cell_type": "markdown",
   "id": "373960fb-9b18-4f18-83ac-af3d8f29c86b",
   "metadata": {},
   "source": [
    "As our variable `f` is a placeholder for a function we can also run it without referencing to a variable."
   ]
  },
  {
   "cell_type": "code",
   "execution_count": null,
   "id": "512a3044-8269-4ddf-a5f8-e0c5b45d69be",
   "metadata": {},
   "outputs": [
    {
     "name": "stdout",
     "output_type": "stream",
     "text": [
      "now run\n",
      "-> now run"
     ]
    }
   ],
   "source": [
    "{\"now run\".postln}.();"
   ]
  },
  {
   "cell_type": "markdown",
   "id": "c1f9fb83-e545-4a1d-b952-052e3d867150",
   "metadata": {},
   "source": [
    "As mentioned before every statement in *sclang* also returns a value - this is also true for our function which will simply return the last statement of the function as a return statement."
   ]
  },
  {
   "cell_type": "code",
   "execution_count": null,
   "id": "000599aa-7acf-44fd-af04-82a7c7c4b2f7",
   "metadata": {},
   "outputs": [
    {
     "name": "stdout",
     "output_type": "stream",
     "text": [
      "-> a Function"
     ]
    }
   ],
   "source": [
    "f = {\n",
    "    \"this is string A\";\n",
    "    \"and this is another string\";\n",
    "};"
   ]
  },
  {
   "cell_type": "code",
   "execution_count": null,
   "id": "3461abac-f688-4f82-ac51-0ceafe356b56",
   "metadata": {},
   "outputs": [
    {
     "name": "stdout",
     "output_type": "stream",
     "text": [
      "and this is another string\n",
      "-> and this is another string"
     ]
    }
   ],
   "source": [
    "a = f.();\n",
    "a.postln;"
   ]
  },
  {
   "cell_type": "markdown",
   "id": "9a5910cb-e27e-480c-8408-5742e822b53a",
   "metadata": {},
   "source": [
    "### Arguments\n",
    "\n",
    "Functions are really powerful because they also can react to dynamic input which allows us to abstract and encapsule certain sequences.\n",
    "There are two ways in *sclang* to add arguments to our function.\n",
    "\n",
    "We both times want to write a function which simply takes two arguments and returns the sum of both.\n",
    "Remember that the last statement within a function will also be returned in *sclang*."
   ]
  },
  {
   "cell_type": "markdown",
   "id": "563c2181-9dcd-4666-86e7-4a96358f5341",
   "metadata": {},
   "source": [
    "#### `| |` style"
   ]
  },
  {
   "cell_type": "code",
   "execution_count": null,
   "id": "5a0d0b5e-2f27-4f4c-a08f-fcae9c95ceef",
   "metadata": {},
   "outputs": [
    {
     "name": "stdout",
     "output_type": "stream",
     "text": [
      "-> a Function"
     ]
    }
   ],
   "source": [
    "f = {|a, b|\n",
    "    a+b;\n",
    "};"
   ]
  },
  {
   "cell_type": "code",
   "execution_count": null,
   "id": "8024d0d8-93bd-447a-ab20-b3caff16f01e",
   "metadata": {},
   "outputs": [
    {
     "name": "stdout",
     "output_type": "stream",
     "text": [
      "-> 6"
     ]
    }
   ],
   "source": [
    "f.(2, 4);"
   ]
  },
  {
   "cell_type": "markdown",
   "id": "e29c0eed-9ad0-4836-9501-895ddbbefb0c",
   "metadata": {},
   "source": [
    "#### `arg` style"
   ]
  },
  {
   "cell_type": "code",
   "execution_count": null,
   "id": "b7dff7c0-4a61-4318-8a47-906004489ae0",
   "metadata": {},
   "outputs": [
    {
     "name": "stdout",
     "output_type": "stream",
     "text": [
      "-> a Function"
     ]
    }
   ],
   "source": [
    "f = {arg a, b;\n",
    "    a+b;\n",
    "};"
   ]
  },
  {
   "cell_type": "code",
   "execution_count": null,
   "id": "8cf04d86-4ccd-4b7e-8a94-e50282c6e6e8",
   "metadata": {},
   "outputs": [
    {
     "name": "stdout",
     "output_type": "stream",
     "text": [
      "-> 9"
     ]
    }
   ],
   "source": [
    "f.(3, 6);"
   ]
  },
  {
   "cell_type": "markdown",
   "id": "46e79fec-4ff7-44c6-86c9-9ab239f0b220",
   "metadata": {},
   "source": [
    "It comes down to a matter of preference which you want to use but it is good to know both ways as you will come across both writings when reading documentation or other tutorials.\n",
    "\n",
    "```{hint}\n",
    "*sclang* also implements some functional programming paradigms, see [Functions](https://doc.sccode.org/Reference/Functions.html) and [partial application](https://doc.sccode.org/Reference/Partial-Application.html).\n",
    "```\n"
   ]
  },
  {
   "cell_type": "markdown",
   "id": "ea9cb5b5-636f-4af7-90f7-ba75687d7368",
   "metadata": {},
   "source": [
    "### Method chaining"
   ]
  },
  {
   "cell_type": "markdown",
   "id": "d32e2bcc-ac99-4ffe-b7a3-66bbbee32b49",
   "metadata": {},
   "source": [
    "### Callbacks\n",
    "\n",
    "If you have programmed JavaScript before you probably already are familiar with the concept of callbacks but if not you will learn it now.\n",
    "Basically a callback is a function which gets called when something happened - e.g. if something that took a long time has a result or if a value of something changed.\n",
    "\n",
    "Assume we have a slider on a MIDI Controller and want to attach its value to a variable.\n",
    "A naive approach would be to simply write (note that this is pseudo-code and not actual sclang code)\n",
    "\n",
    "```supercollider\n",
    "a = MidiSlider.value;\n",
    "```\n",
    "\n",
    "but this would only associate the value of the MidiSlider only when we exectue the line, but would not update it afterwards.\n",
    "Here a callback comes in handy as we simply provide a function which will update the value of a with the value from the slider.\n",
    "But how do we get the current value of the slider? Well, a callback can also receive an argument, and the callback function is often called in such a way that the first argument is e.g. the new value.\n",
    "Wrapping everything together the pseudo-code from above would look something like\n",
    "\n",
    "```supercollider\n",
    "MidiSlider.onChange = {|newValue| a = newValue };\n",
    "```\n",
    "\n",
    "It is a bit reverse thinking but you will get used to it after some practice."
   ]
  },
  {
   "cell_type": "markdown",
   "id": "3b069288-a21a-4c37-8ad7-52e9019de2bf",
   "metadata": {},
   "source": [
    "(namespace)=\n",
    "## Namespace\n",
    "\n",
    "Namespaces (or *closures*) are allow us to create a new context in which we can define variables.\n",
    "As these are not global variables but local variables (we will see in a minute what the difference is) we can also use variable names with more than one character.\n",
    "\n",
    "A namespace is everything that is encapsulated in a multi line statement, so within `(` and `)`."
   ]
  },
  {
   "cell_type": "code",
   "execution_count": null,
   "id": "c36fa93d-b042-4d45-9727-161ca981cefb",
   "metadata": {},
   "outputs": [
    {
     "name": "stdout",
     "output_type": "stream",
     "text": [
      "-> 46"
     ]
    }
   ],
   "source": [
    "var foo = 42;\n",
    "foo + 4;"
   ]
  },
  {
   "cell_type": "markdown",
   "id": "d98bd5b8-2c10-4758-bc5c-26b160791944",
   "metadata": {},
   "source": [
    "Note that this means they are only available within the namespace and not in an outside (or new) namespace."
   ]
  },
  {
   "cell_type": "code",
   "execution_count": null,
   "id": "9cf8145d-68ad-4477-9ad9-08642e45314a",
   "metadata": {},
   "outputs": [
    {
     "name": "stdout",
     "output_type": "stream",
     "text": [
      "\".postln; result = {foo;}.value(); postf(\"-> %\n",
      "                                                         \n",
      "  \", result); \""
     ]
    }
   ],
   "source": [
    "foo;"
   ]
  },
  {
   "cell_type": "markdown",
   "id": "305a505d-c2ce-40b5-9d1a-ff8358eaa7f9",
   "metadata": {},
   "source": [
    "In this context we can not access `foo` anymore because it resides in a different namespace.\n",
    "\n",
    "We need to define the variables of the namespace at the beginneg of the namespace and prepend `var` to it."
   ]
  },
  {
   "cell_type": "code",
   "execution_count": null,
   "id": "3552b851-5501-4c72-bbe0-c61a5765c3b4",
   "metadata": {},
   "outputs": [],
   "source": [
    "\"hello\".postln;\n",
    "var world = \"world\";"
   ]
  },
  {
   "cell_type": "markdown",
   "id": "c03c6d5e-81d8-4054-931f-543b55baa7c3",
   "metadata": {},
   "source": [
    "Does not work because we declare a variable after a statement.\n",
    "A way to fix this would be"
   ]
  },
  {
   "cell_type": "code",
   "execution_count": null,
   "id": "ea3a7f02-1421-401b-94ec-d28379128360",
   "metadata": {},
   "outputs": [
    {
     "name": "stdout",
     "output_type": "stream",
     "text": [
      "hello\n",
      "world\n",
      "-> world"
     ]
    }
   ],
   "source": [
    "var world;\n",
    "\"hello\".postln;\n",
    "world = \"world\";\n",
    "world.postln;"
   ]
  },
  {
   "cell_type": "markdown",
   "id": "b1f07431-373a-4354-884f-547af40cc8cd",
   "metadata": {},
   "source": [
    "Note that each function also creates a new namespace, but we need to declare our variables always at the top of a namespace!"
   ]
  },
  {
   "cell_type": "code",
   "execution_count": null,
   "id": "2fecaaa8-1f61-4365-a463-21dd4ec803e4",
   "metadata": {},
   "outputs": [
    {
     "name": "stdout",
     "output_type": "stream",
     "text": [
      "-> a Function"
     ]
    }
   ],
   "source": [
    "f = {|a, b|\n",
    "    var result = a + b;\n",
    "    result;\n",
    "};"
   ]
  },
  {
   "cell_type": "code",
   "execution_count": null,
   "id": "cb24b51e-9816-4680-9799-aa0dbf0912f2",
   "metadata": {},
   "outputs": [
    {
     "name": "stdout",
     "output_type": "stream",
     "text": [
      "-> 84"
     ]
    }
   ],
   "source": [
    "f.(42, 42);"
   ]
  },
  {
   "cell_type": "markdown",
   "id": "b1bf30a3-ef0c-4438-886d-473f226ca666",
   "metadata": {},
   "source": [
    "## Classes\n",
    "\n",
    "Classes are used in a programming paradigm called object oriented programming (OOP) which relies on the concept of a Class (which behaves like a blueprint) and instances of this class, called objects.\n",
    "The class describes what data and functions a class can have and the object actually fills the data of the class.\n",
    "We can create e.g. a class called `Car` on which we want to store the variables\n",
    "\n",
    "* name\n",
    "* color\n",
    "* location\n",
    "\n",
    "To actually do something with the class we need to create an *object* out of it, like\n",
    "\n",
    "```supercollider\n",
    "carA = Car(name: \\danube, color: \\blue, location: \\rome)\n",
    "```\n",
    "\n",
    "and another car with\n",
    "\n",
    "```supercollider\n",
    "carB = Car(name: \\rhine, color: \\blue, location: \\graz)\n",
    "```\n",
    "\n",
    "We can now use these two cars to compare the colors, e.g. `carA.color == carB.color` which would return `true`, but we can also attach function to these cars, allowing for a repainting, a change of location or the calculation of a distance to another city based on its current location.\n",
    "\n",
    "Although *sclang* is a purely object oriented programming language we can only add Classes during compile time, so for the beginnig you probably will not write so much classes, yet it is important to understand them as you will interact with them all the time as\n",
    "\n",
    ">everything is an object\n",
    "\n",
    "in *sclang*.\n",
    "Everytime you will see a word beginnig with capital letters (like `Car`) it indicates a class, where `carA` is an object.\n",
    "\n",
    "Functions which are in the namespace of a class and can therefore also access the data within the class are called *methods*.\n",
    "E.g. `.postln` from `\"Hello world\".postln` is actually a method on the String class which will run the `postln` function of `\"Hello world\"`.\n",
    "\n",
    "In the beginnig this concept can be quite tricky, but as always, with some practice you will get used to it and once you have a project where you want or need to write your own classes you will probably understand it, but for now it is more important to understand them and know the vocabulary."
   ]
  },
  {
   "cell_type": "markdown",
   "id": "f299acff-8dc1-4680-881a-d7c2673e8b97",
   "metadata": {},
   "source": [
    "## Control structures"
   ]
  },
  {
   "cell_type": "markdown",
   "id": "74cbe5c8-54fa-435a-afb9-98d0aa39ee39",
   "metadata": {},
   "source": [
    "### if\n",
    "\n",
    "An *if* function allows to separate branches based upon a given condition.\n",
    "*sclang* allows two ways to write them.\n",
    "\n",
    "The first way is to create a boolean of our statement and apply the `if` method on it where the first argument is the function (callback) which will get called if the condition is true and the second function will get called if the condition is false."
   ]
  },
  {
   "cell_type": "code",
   "execution_count": null,
   "id": "552039dc-ce12-4076-a311-236fd7a066f7",
   "metadata": {},
   "outputs": [
    {
     "name": "stdout",
     "output_type": "stream",
     "text": [
      "8\n",
      "-> a is bigger than 5"
     ]
    }
   ],
   "source": [
    "// create a random variable between 0 and 9\n",
    "a = 10.rand.postln;\n",
    "\n",
    "(a>5).if({\"a is bigger than 5\"}, {\"a is smaller than 5\"});"
   ]
  },
  {
   "cell_type": "markdown",
   "id": "88a81ca3-af48-470e-b75a-85f1aa4435de",
   "metadata": {},
   "source": [
    "Alternatively we can also use the `if` function where the first argument is our condition which we want to evaluate, the second argument is the function which will get called if the condition is true and the third argument is the function which will get called if the condition is false."
   ]
  },
  {
   "cell_type": "code",
   "execution_count": null,
   "id": "c8770192-bcdb-43a6-a87c-13b5c285a2d5",
   "metadata": {},
   "outputs": [
    {
     "name": "stdout",
     "output_type": "stream",
     "text": [
      "4\n",
      "-> a is smaller than 5"
     ]
    }
   ],
   "source": [
    "a = 10.rand.postln;\n",
    "if(a>5, {\"a is bigger than 5\"}, {\"a is smaller than 5\"});"
   ]
  },
  {
   "cell_type": "markdown",
   "id": "4c9800b5-bf71-4650-bac1-0e5b28f6b38f",
   "metadata": {},
   "source": [
    "### for\n",
    "\n",
    "We already introduced lists before and lists are always are associated with a `for` loop which allows us to perform a block of operations (so, a function) for each element of the list."
   ]
  },
  {
   "cell_type": "code",
   "execution_count": null,
   "id": "097557c6-b61b-4034-989c-2fcd4409093f",
   "metadata": {},
   "outputs": [
    {
     "name": "stdout",
     "output_type": "stream",
     "text": [
      "hello\n",
      "world\n",
      "!\n",
      "-> [ hello, world, ! ]"
     ]
    }
   ],
   "source": [
    "[\"hello\", \"world\", \"!\"].do({|item|\n",
    "    item.postln;\n",
    "});"
   ]
  },
  {
   "cell_type": "markdown",
   "id": "bd49d3b6-747f-4134-b857-55c49f3638f8",
   "metadata": {},
   "source": [
    "## Documentation\n",
    "\n",
    "At the beginnig of learning a language it necessary to navigate for help.\n",
    "Here we want to discuss some basic methods that *sclang* and *scide* provide you in case you are in need for help."
   ]
  },
  {
   "cell_type": "markdown",
   "id": "9671df66-c116-4616-8d48-f4264c071869",
   "metadata": {},
   "source": [
    "## Exceptions"
   ]
  },
  {
   "cell_type": "markdown",
   "id": "85845e78-5d43-485e-9a1a-6c8caa30f679",
   "metadata": {},
   "source": [
    "## Exercises"
   ]
  },
  {
   "cell_type": "code",
   "execution_count": null,
   "id": "2de85418-6b99-4a39-a2a5-119b8a4d72a7",
   "metadata": {},
   "outputs": [],
   "source": []
  }
 ],
 "metadata": {
  "kernelspec": {
   "display_name": "SuperCollider",
   "language": "",
   "name": "sc_kernel"
  },
  "language_info": {
   "file_extension": ".scd",
   "mimetype": "text/x-sclang",
   "name": "smalltalk",
   "pygments_lexer": "supercollider"
  }
 },
 "nbformat": 4,
 "nbformat_minor": 5
}
