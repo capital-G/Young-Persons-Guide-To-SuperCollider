{
 "cells": [
  {
   "cell_type": "markdown",
   "id": "b7d24d73-1be7-40b2-8434-67e35c30e89b",
   "metadata": {},
   "source": [
    "# Introduction to SuperCollider"
   ]
  },
  {
   "cell_type": "markdown",
   "id": "8c34eb11-baa7-4962-b812-fc6a659d9d3f",
   "metadata": {},
   "source": [
    "## What is SuperCollider\n",
    "\n",
    "SuperCollider is a free and open programming environment for sound development.\n",
    "It can run on Windows, Linux, macOS, iOS, Android, Raspberry Pi and much more.\n",
    "\n",
    "SuperCollider contains different sub-projects of which the most important are\n",
    "\n",
    "* scsynth - an audio engine which will output sound. *supernova* is an alternative implementation of the server which allows for multithreading.\n",
    "* sclang - a programming language which we will use to control the output of the server\n",
    "* scide - a Qt IDE which allows us to program sclang and control the server\n",
    "\n",
    "This splitting of components may seem strange at first but allow us to use SuperCollider in a variety of ways, like on a server in an internet."
   ]
  },
  {
   "cell_type": "markdown",
   "id": "31fa835a-6416-4aba-b1cf-a712f2b03c05",
   "metadata": {},
   "source": [
    "## Why SuperCollider?"
   ]
  },
  {
   "cell_type": "markdown",
   "id": "26711d35-7707-4198-aa0b-35cf88317298",
   "metadata": {},
   "source": [
    "## Starting SuperCollider\n",
    "\n",
    "After [installing SuperCollider](https://supercollider.github.io/downloads) you want to start *scide* which is often synonymous with *SuperCollider* on most operating systems.\n",
    "\n",
    "After starting the IDE you will see something like\n",
    "\n",
    "```\n",
    "*** Welcome to SuperCollider 3.11.2. *** For help press Cmd-D.\n",
    "```\n",
    "\n",
    "in the *Post window*, which indicates that *sclang* was started successfully and we can now start programming SuperCollider via sclang.\n",
    "\n",
    "The document you see allows us to enter sclang statements that we can run in the interpreter of sclang."
   ]
  },
  {
   "cell_type": "markdown",
   "id": "37742b26-5857-4b80-b05d-adae9f11d1d7",
   "metadata": {},
   "source": []
  },
  {
   "cell_type": "markdown",
   "id": "bf546c3a-67b5-4771-8ad1-242e7b01c0ca",
   "metadata": {},
   "source": [
    "## Executing statements in *sclang*\n",
    "\n",
    "Before we will output sound we want to explore some basic concepts on how we can execute statements in *sclang*."
   ]
  },
  {
   "cell_type": "markdown",
   "id": "dde45a2b-4588-4f90-a026-1d161e511646",
   "metadata": {},
   "source": [
    "## Variables in *sclang*"
   ]
  },
  {
   "cell_type": "markdown",
   "id": "e1a95071-8dcf-4ee4-9b3e-1f9cfc6fc315",
   "metadata": {},
   "source": [
    "## Functions"
   ]
  },
  {
   "cell_type": "code",
   "execution_count": null,
   "id": "a603d03a-3c3c-4f77-b38f-8ea166de3643",
   "metadata": {},
   "outputs": [],
   "source": []
  },
  {
   "cell_type": "markdown",
   "id": "f9a8b6a2-dbe4-4296-a39e-052006cfd621",
   "metadata": {},
   "source": [
    "## Selecting an audio device\n",
    "\n",
    "To output sound in SuperCollider we need the **server** *scsynth* \n",
    "Before we start the server to generate some audio we need to check the input and output device of the server so we can actually hear something.\n",
    "We can see the detected audio devices via"
   ]
  },
  {
   "cell_type": "code",
   "execution_count": null,
   "id": "e3d5942a-5428-423b-9db1-9457819674b2",
   "metadata": {},
   "outputs": [
    {
     "name": "stdout",
     "output_type": "stream",
     "text": [
      "-> [ Studio 1824c, BlackHole 16ch, MacBook Pro Microphone, MacBook Pro Speakers, Soundflower (2ch), Soundflower (64ch), ZoomAudioD, Aggregate Device, MotuBlackhole, BlackHole Studio1824c, Fireface BlackHole, BlackHoleExtern, Zomm1824c, ExternalStudio1824c ]"
     ]
    }
   ],
   "source": [
    "ServerOptions.devices"
   ]
  },
  {
   "cell_type": "markdown",
   "id": "95caf7a0-17db-4284-9907-36db0ba946d8",
   "metadata": {},
   "source": [
    "For me, I want to use *MacBook Pro Speakers* as my output device, so we will tell the server, which is our audio engine *scsynth*, to use this as an output device."
   ]
  },
  {
   "cell_type": "code",
   "execution_count": null,
   "id": "f1468f05-d94f-4847-b7fe-bb4b48b5e245",
   "metadata": {},
   "outputs": [
    {
     "name": "stdout",
     "output_type": "stream",
     "text": [
      "-> a ServerOptions"
     ]
    }
   ],
   "source": [
    "s.options.outDevice = \"MacBook Pro Speakers\";"
   ]
  },
  {
   "cell_type": "code",
   "execution_count": null,
   "id": "0fb9afaf-6eef-4fb2-b0ce-4af28de799fa",
   "metadata": {},
   "outputs": [
    {
     "name": "stdout",
     "output_type": "stream",
     "text": [
      "-> localhost"
     ]
    }
   ],
   "source": [
    "s.boot;"
   ]
  },
  {
   "cell_type": "code",
   "execution_count": null,
   "id": "c2aa9af9-4e8b-4802-8c9f-11b71c9156e2",
   "metadata": {},
   "outputs": [
    {
     "name": "stdout",
     "output_type": "stream",
     "text": [
      "-> Synth('temp__0' : 1001)"
     ]
    }
   ],
   "source": [
    "{SinOsc.ar(400)}.play"
   ]
  },
  {
   "cell_type": "markdown",
   "id": "12a49c28-74b3-4802-a2fe-fc9ecb4d791f",
   "metadata": {},
   "source": [
    "For more configuration options check out [ServerOptions](https://doc.sccode.org/Classes/ServerOptions.html) or use the extenios/Quark [ServerOptionsGui](https://github.com/gusano/ServerOptionsGui) which you can install and use via\n",
    "\n",
    "```supercollider\n",
    "Quarks.install(\"ServerOptionsGui\");\n",
    "thisProcess.recompile;\n",
    "ServerOptionsGui();\n",
    "s.reboot;\n",
    "```"
   ]
  },
  {
   "cell_type": "code",
   "execution_count": null,
   "id": "ea5f7fc7-d9a1-486e-bebf-70ae729f84f9",
   "metadata": {},
   "outputs": [
    {
     "name": "stdout",
     "output_type": "stream",
     "text": [
      "-> CmdPeriod"
     ]
    }
   ],
   "source": [
    "."
   ]
  },
  {
   "cell_type": "markdown",
   "id": "7caccc91-dffe-4816-8961-1e392db87c3f",
   "metadata": {},
   "source": [
    "## How to execute code"
   ]
  },
  {
   "cell_type": "code",
   "execution_count": null,
   "id": "9c520d95-043c-4500-8bfa-948c9bf80b45",
   "metadata": {},
   "outputs": [],
   "source": []
  }
 ],
 "metadata": {
  "kernelspec": {
   "display_name": "SuperCollider",
   "language": "",
   "name": "sc_kernel"
  },
  "language_info": {
   "file_extension": ".scd",
   "mimetype": "text/x-sclang",
   "name": "smalltalk",
   "pygments_lexer": "supercollider"
  }
 },
 "nbformat": 4,
 "nbformat_minor": 5
}
